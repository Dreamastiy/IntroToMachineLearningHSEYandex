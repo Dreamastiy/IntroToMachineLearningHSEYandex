{
 "metadata": {
  "name": "",
  "signature": "sha256:948b3b0fae97ac1af5f0f49ce7150c73c53a4af6f87a64183e7bc9f29548e344"
 },
 "nbformat": 3,
 "nbformat_minor": 0,
 "worksheets": [
  {
   "cells": [
    {
     "cell_type": "code",
     "collapsed": false,
     "input": [
      "import pandas\n",
      "import numpy\n",
      "from sklearn import datasets\n",
      "from sklearn.feature_extraction.text import TfidfVectorizer\n",
      "from sklearn.svm import SVC\n",
      "from sklearn.grid_search import GridSearchCV\n",
      "from sklearn.cross_validation import KFold"
     ],
     "language": "python",
     "metadata": {},
     "outputs": [],
     "prompt_number": 17
    },
    {
     "cell_type": "code",
     "collapsed": false,
     "input": [
      "newsgroups = datasets.fetch_20newsgroups(\n",
      "                    subset='all', \n",
      "                    categories=['alt.atheism', 'sci.space']\n",
      "             )"
     ],
     "language": "python",
     "metadata": {},
     "outputs": [],
     "prompt_number": 3
    },
    {
     "cell_type": "code",
     "collapsed": false,
     "input": [
      "print newsgroups.target\n",
      "X = newsgroups.data\n",
      "y = newsgroups.target"
     ],
     "language": "python",
     "metadata": {},
     "outputs": [
      {
       "output_type": "stream",
       "stream": "stdout",
       "text": [
        "[0 0 1 ..., 1 1 0]\n"
       ]
      }
     ],
     "prompt_number": 12
    },
    {
     "cell_type": "code",
     "collapsed": false,
     "input": [
      "tdm = TfidfVectorizer()\n",
      "XX = tdm.fit_transform(X)\n",
      "print XX\n",
      "print len(X)"
     ],
     "language": "python",
     "metadata": {},
     "outputs": [
      {
       "output_type": "stream",
       "stream": "stdout",
       "text": [
        "  (0, 7135)\t0.0917729145245\n",
        "  (0, 4228)\t0.0973296270647\n",
        "  (0, 7730)\t0.0257500657634\n",
        "  (0, 10229)\t0.0711602266137\n",
        "  (0, 19790)\t0.13853387972\n",
        "  (0, 15344)\t0.0530800518709\n",
        "  (0, 20738)\t0.0661207278845\n",
        "  (0, 23930)\t0.0258799675832\n",
        "  (0, 7156)\t0.0595483997217\n",
        "  (0, 17180)\t0.0834661025364\n",
        "  (0, 21711)\t0.0973296270647\n",
        "  (0, 26651)\t0.0483146530661\n",
        "  (0, 23767)\t0.0942715474789\n",
        "  (0, 18131)\t0.0480301195367\n",
        "  (0, 27676)\t0.0271693788925\n",
        "  (0, 5591)\t0.0775002688872\n",
        "  (0, 16195)\t0.0490024803962\n",
        "  (0, 4594)\t0.0292682930135\n",
        "  (0, 21315)\t0.0896603504628\n",
        "  (0, 5542)\t0.172432403969\n",
        "  (0, 19013)\t0.0520353909403\n",
        "  (0, 18071)\t0.0290786077794\n",
        "  (0, 13384)\t0.0942715474789\n",
        "  (0, 9776)\t0.0569774471304\n",
        "  (0, 27786)\t0.0973296270647\n",
        "  :\t:\n",
        "  (1785, 27676)\t0.0449759782935\n",
        "  (1785, 18071)\t0.0240682504644\n",
        "  (1785, 28273)\t0.0237038561818\n",
        "  (1785, 18954)\t0.016313452449\n",
        "  (1785, 12908)\t0.0603309976715\n",
        "  (1785, 16783)\t0.0581081761316\n",
        "  (1785, 10000)\t0.0217654576385\n",
        "  (1785, 12871)\t0.189511491808\n",
        "  (1785, 15175)\t0.043493584548\n",
        "  (1785, 12104)\t0.0150486921979\n",
        "  (1785, 25899)\t0.0122410879021\n",
        "  (1785, 18589)\t0.0164919329582\n",
        "  (1785, 26915)\t0.0887850510735\n",
        "  (1785, 15097)\t0.0676371082159\n",
        "  (1785, 4455)\t0.221144234215\n",
        "  (1785, 11147)\t0.180639716616\n",
        "  (1785, 15152)\t0.0433465102616\n",
        "  (1785, 25600)\t0.0819073384699\n",
        "  (1785, 28268)\t0.0161571268893\n",
        "  (1785, 4796)\t0.0170553676592\n",
        "  (1785, 14361)\t0.0613430162168\n",
        "  (1785, 16346)\t0.0113622527521\n",
        "  (1785, 24745)\t0.0113431938948\n",
        "  (1785, 25602)\t0.304313084175\n",
        "  (1785, 12328)\t0.0113431938948\n",
        "1786\n"
       ]
      }
     ],
     "prompt_number": 105
    },
    {
     "cell_type": "code",
     "collapsed": false,
     "input": [
      "grid = {'C': numpy.power(10.0, numpy.arange(-5, 6))}\n",
      "cv = KFold(y.size, \n",
      "           n_folds = 5, \n",
      "           shuffle = True, \n",
      "           random_state = 241)\n",
      "clf = SVC(kernel = 'linear', \n",
      "          random_state = 241)\n",
      "gs = GridSearchCV(clf,\n",
      "                  grid, \n",
      "                  scoring = 'roc_auc', \n",
      "                  cv = cv)\n",
      "gs.fit(XX, y)"
     ],
     "language": "python",
     "metadata": {},
     "outputs": [
      {
       "metadata": {},
       "output_type": "pyout",
       "prompt_number": 106,
       "text": [
        "GridSearchCV(cv=sklearn.cross_validation.KFold(n=1786, n_folds=5, shuffle=True, random_state=241),\n",
        "       error_score='raise',\n",
        "       estimator=SVC(C=1.0, cache_size=200, class_weight=None, coef0=0.0,\n",
        "  decision_function_shape=None, degree=3, gamma='auto', kernel='linear',\n",
        "  max_iter=-1, probability=False, random_state=241, shrinking=True,\n",
        "  tol=0.001, verbose=False),\n",
        "       fit_params={}, iid=True, n_jobs=1,\n",
        "       param_grid={'C': array([  1.00000e-05,   1.00000e-04,   1.00000e-03,   1.00000e-02,\n",
        "         1.00000e-01,   1.00000e+00,   1.00000e+01,   1.00000e+02,\n",
        "         1.00000e+03,   1.00000e+04,   1.00000e+05])},\n",
        "       pre_dispatch='2*n_jobs', refit=True, scoring='roc_auc', verbose=0)"
       ]
      }
     ],
     "prompt_number": 106
    },
    {
     "cell_type": "code",
     "collapsed": false,
     "input": [
      "for a in gs.grid_scores_:\n",
      "    print a.mean_validation_score\n",
      "    print a.parameters\n",
      "    # a.mean_validation_score \u2014 \u043e\u0446\u0435\u043d\u043a\u0430 \u043a\u0430\u0447\u0435\u0441\u0442\u0432\u0430 \u043f\u043e \u043a\u0440\u043e\u0441\u0441-\u0432\u0430\u043b\u0438\u0434\u0430\u0446\u0438\u0438\n",
      "    # a.parameters \u2014 \u0437\u043d\u0430\u0447\u0435\u043d\u0438\u044f \u043f\u0430\u0440\u0430\u043c\u0435\u0442\u0440\u043e\u0432\n",
      "print max(gs.grid_scores_)\n",
      "print gs.best_params_"
     ],
     "language": "python",
     "metadata": {},
     "outputs": [
      {
       "output_type": "stream",
       "stream": "stdout",
       "text": [
        "0.996416561487\n",
        "{'C': 1.0000000000000001e-05}\n",
        "0.995054634907\n",
        "{'C': 0.0001}\n",
        "0.991313675636\n",
        "{'C': 0.001}\n",
        "0.991199716118\n",
        "{'C': 0.01}\n",
        "0.997366920379\n",
        "{'C': 0.10000000000000001}\n",
        "0.999795904153\n",
        "{'C': 1.0}\n",
        "0.99982144927\n",
        "{'C': 10.0}\n",
        "0.99982144927\n",
        "{'C': 100.0}\n",
        "0.99982144927\n",
        "{'C': 1000.0}\n",
        "0.99982144927\n",
        "{'C': 10000.0}\n",
        "0.99982144927\n",
        "{'C': 100000.0}\n",
        "mean: 0.99982, std: 0.00017, params: {'C': 100000.0}\n",
        "{'C': 10.0}\n"
       ]
      }
     ],
     "prompt_number": 107
    },
    {
     "cell_type": "code",
     "collapsed": false,
     "input": [
      "# clf_f = SVC(kernel = 'linear', \n",
      "#             random_state = 241,\n",
      "#             C = 10.0)\n",
      "print numpy.argsort(abs(gs.best_estimator_.coef_.data)[::-1])\n",
      "\n",
      "# clf_f.fit(XX, y)"
     ],
     "language": "python",
     "metadata": {},
     "outputs": [
      {
       "output_type": "stream",
       "stream": "stdout",
       "text": [
        "[ 5439  8280 14444 ...,   954   311  1710]\n"
       ]
      }
     ],
     "prompt_number": 120
    },
    {
     "cell_type": "code",
     "collapsed": false,
     "input": [
      "temp = numpy.argsort(abs(gs.best_estimator_.coef_.data))\n",
      "print temp[-10:]\n",
      "print abs(gs.best_estimator_.coef_.data)[temp]\n",
      "#words = numpy.argsort(abs(gs.best_estimator_.coef_.data)[::-1])[:10]\n",
      "#print words\n",
      "words = temp[-10:]"
     ],
     "language": "python",
     "metadata": {},
     "outputs": [
      {
       "output_type": "stream",
       "stream": "stdout",
       "text": [
        "[ 4145 17501 16825 17014 17615  8922 17124 17528 18171 16772]\n",
        "[  1.53610554e-05   4.67082472e-05   5.43882836e-05 ...,   1.29993520e+00\n",
        "   1.97192381e+00   2.72030446e+00]\n"
       ]
      }
     ],
     "prompt_number": 149
    },
    {
     "cell_type": "code",
     "collapsed": false,
     "input": [
      "features = tdm.get_feature_names()\n",
      "# print features\n",
      "temp = []\n",
      "for word in words:\n",
      "    temp.append(features[gs.best_estimator_.coef_.indices[word]])\n",
      "temp.sort()\n",
      "for x in temp:\n",
      "    print x\n",
      "print temp\n"
     ],
     "language": "python",
     "metadata": {},
     "outputs": [
      {
       "output_type": "stream",
       "stream": "stdout",
       "text": [
        "atheism\n",
        "atheists\n",
        "bible\n",
        "god\n",
        "keith\n",
        "moon\n",
        "nick\n",
        "religion\n",
        "sky\n",
        "space\n",
        "[u'atheism', u'atheists', u'bible', u'god', u'keith', u'moon', u'nick', u'religion', u'sky', u'space']\n"
       ]
      }
     ],
     "prompt_number": 150
    }
   ],
   "metadata": {}
  }
 ]
}