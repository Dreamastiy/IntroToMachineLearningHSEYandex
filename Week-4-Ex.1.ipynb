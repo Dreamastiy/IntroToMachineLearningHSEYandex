{
 "cells": [
  {
   "cell_type": "code",
   "execution_count": 1,
   "metadata": {
    "collapsed": true
   },
   "outputs": [],
   "source": [
    "from sklearn.feature_extraction import DictVectorizer\n",
    "from sklearn.feature_extraction.text import TfidfVectorizer\n",
    "from sklearn.linear_model import Ridge\n",
    "import pandas\n",
    "import scipy\n",
    "import numpy"
   ]
  },
  {
   "cell_type": "code",
   "execution_count": 3,
   "metadata": {
    "collapsed": false
   },
   "outputs": [
    {
     "name": "stdout",
     "output_type": "stream",
     "text": [
      "60000\n"
     ]
    },
    {
     "data": {
      "text/html": [
       "<div>\n",
       "<table border=\"1\" class=\"dataframe\">\n",
       "  <thead>\n",
       "    <tr style=\"text-align: right;\">\n",
       "      <th></th>\n",
       "      <th>FullDescription</th>\n",
       "      <th>LocationNormalized</th>\n",
       "      <th>ContractTime</th>\n",
       "      <th>SalaryNormalized</th>\n",
       "    </tr>\n",
       "  </thead>\n",
       "  <tbody>\n",
       "    <tr>\n",
       "      <th>0</th>\n",
       "      <td>International Sales Manager London ****k  ****...</td>\n",
       "      <td>London</td>\n",
       "      <td>permanent</td>\n",
       "      <td>33000</td>\n",
       "    </tr>\n",
       "    <tr>\n",
       "      <th>1</th>\n",
       "      <td>An ideal opportunity for an individual that ha...</td>\n",
       "      <td>London</td>\n",
       "      <td>permanent</td>\n",
       "      <td>50000</td>\n",
       "    </tr>\n",
       "    <tr>\n",
       "      <th>2</th>\n",
       "      <td>Online Content and Brand Manager// Luxury Reta...</td>\n",
       "      <td>South East London</td>\n",
       "      <td>permanent</td>\n",
       "      <td>40000</td>\n",
       "    </tr>\n",
       "    <tr>\n",
       "      <th>3</th>\n",
       "      <td>A great local marketleader is seeking a perman...</td>\n",
       "      <td>Dereham</td>\n",
       "      <td>permanent</td>\n",
       "      <td>22500</td>\n",
       "    </tr>\n",
       "    <tr>\n",
       "      <th>4</th>\n",
       "      <td>Registered Nurse / RGN  Nursing Home for Young...</td>\n",
       "      <td>Sutton Coldfield</td>\n",
       "      <td>NaN</td>\n",
       "      <td>20355</td>\n",
       "    </tr>\n",
       "  </tbody>\n",
       "</table>\n",
       "</div>"
      ],
      "text/plain": [
       "                                     FullDescription LocationNormalized  \\\n",
       "0  International Sales Manager London ****k  ****...             London   \n",
       "1  An ideal opportunity for an individual that ha...             London   \n",
       "2  Online Content and Brand Manager// Luxury Reta...  South East London   \n",
       "3  A great local marketleader is seeking a perman...            Dereham   \n",
       "4  Registered Nurse / RGN  Nursing Home for Young...   Sutton Coldfield   \n",
       "\n",
       "  ContractTime  SalaryNormalized  \n",
       "0    permanent             33000  \n",
       "1    permanent             50000  \n",
       "2    permanent             40000  \n",
       "3    permanent             22500  \n",
       "4          NaN             20355  "
      ]
     },
     "execution_count": 3,
     "metadata": {},
     "output_type": "execute_result"
    }
   ],
   "source": [
    "data_train = pandas.read_csv(u'C:\\\\Users\\\\Dmi\\\\Desktop\\\\MatLab\\\\Coursera\\\\Введение в машинное обучение\\\\Неделя 4\\\\Задание 1\\\\salary-train.csv', \n",
    "                             header = 0)\n",
    "data_test = pandas.read_csv(u'C:\\\\Users\\\\Dmi\\\\Desktop\\\\MatLab\\\\Coursera\\\\Введение в машинное обучение\\\\Неделя 4\\\\Задание 1\\\\salary-test-mini.csv', \n",
    "                            header = 0)\n",
    "print len(data_train)\n",
    "data_train.head()\n",
    "#data_test.head()"
   ]
  },
  {
   "cell_type": "code",
   "execution_count": 12,
   "metadata": {
    "collapsed": false
   },
   "outputs": [
    {
     "data": {
      "text/html": [
       "<div>\n",
       "<table border=\"1\" class=\"dataframe\">\n",
       "  <thead>\n",
       "    <tr style=\"text-align: right;\">\n",
       "      <th></th>\n",
       "      <th>FullDescription</th>\n",
       "      <th>LocationNormalized</th>\n",
       "      <th>ContractTime</th>\n",
       "      <th>SalaryNormalized</th>\n",
       "    </tr>\n",
       "  </thead>\n",
       "  <tbody>\n",
       "  </tbody>\n",
       "</table>\n",
       "</div>"
      ],
      "text/plain": [
       "Empty DataFrame\n",
       "Columns: [FullDescription, LocationNormalized, ContractTime, SalaryNormalized]\n",
       "Index: []"
      ]
     },
     "execution_count": 12,
     "metadata": {},
     "output_type": "execute_result"
    }
   ],
   "source": [
    "data_full = data_train\n",
    "data_test = data_full.ix[50001:60000, :]\n",
    "data_train = data_full.ix[:50000, :]\n",
    "data_test.tail()"
   ]
  },
  {
   "cell_type": "code",
   "execution_count": 33,
   "metadata": {
    "collapsed": false
   },
   "outputs": [
    {
     "data": {
      "text/plain": [
       "0    international sales manager london ****k  ****...\n",
       "1    an ideal opportunity for an individual that ha...\n",
       "2    online content and brand manager// luxury reta...\n",
       "3    a great local marketleader is seeking a perman...\n",
       "4    registered nurse / rgn  nursing home for young...\n",
       "Name: FullDescription, dtype: object"
      ]
     },
     "execution_count": 33,
     "metadata": {},
     "output_type": "execute_result"
    }
   ],
   "source": [
    "data_train['FullDescription'] = data_train['FullDescription'].str.lower()\n",
    "data_train['FullDescription'].head()"
   ]
  },
  {
   "cell_type": "code",
   "execution_count": 34,
   "metadata": {
    "collapsed": false
   },
   "outputs": [
    {
     "data": {
      "text/html": [
       "<div>\n",
       "<table border=\"1\" class=\"dataframe\">\n",
       "  <thead>\n",
       "    <tr style=\"text-align: right;\">\n",
       "      <th></th>\n",
       "      <th>FullDescription</th>\n",
       "      <th>LocationNormalized</th>\n",
       "      <th>ContractTime</th>\n",
       "      <th>SalaryNormalized</th>\n",
       "    </tr>\n",
       "  </thead>\n",
       "  <tbody>\n",
       "    <tr>\n",
       "      <th>0</th>\n",
       "      <td>international sales manager london     k      ...</td>\n",
       "      <td>London</td>\n",
       "      <td>permanent</td>\n",
       "      <td>33000</td>\n",
       "    </tr>\n",
       "    <tr>\n",
       "      <th>1</th>\n",
       "      <td>an ideal opportunity for an individual that ha...</td>\n",
       "      <td>London</td>\n",
       "      <td>permanent</td>\n",
       "      <td>50000</td>\n",
       "    </tr>\n",
       "    <tr>\n",
       "      <th>2</th>\n",
       "      <td>online content and brand manager   luxury reta...</td>\n",
       "      <td>South East London</td>\n",
       "      <td>permanent</td>\n",
       "      <td>40000</td>\n",
       "    </tr>\n",
       "    <tr>\n",
       "      <th>3</th>\n",
       "      <td>a great local marketleader is seeking a perman...</td>\n",
       "      <td>Dereham</td>\n",
       "      <td>permanent</td>\n",
       "      <td>22500</td>\n",
       "    </tr>\n",
       "    <tr>\n",
       "      <th>4</th>\n",
       "      <td>registered nurse   rgn  nursing home for young...</td>\n",
       "      <td>Sutton Coldfield</td>\n",
       "      <td>NaN</td>\n",
       "      <td>20355</td>\n",
       "    </tr>\n",
       "  </tbody>\n",
       "</table>\n",
       "</div>"
      ],
      "text/plain": [
       "                                     FullDescription LocationNormalized  \\\n",
       "0  international sales manager london     k      ...             London   \n",
       "1  an ideal opportunity for an individual that ha...             London   \n",
       "2  online content and brand manager   luxury reta...  South East London   \n",
       "3  a great local marketleader is seeking a perman...            Dereham   \n",
       "4  registered nurse   rgn  nursing home for young...   Sutton Coldfield   \n",
       "\n",
       "  ContractTime  SalaryNormalized  \n",
       "0    permanent             33000  \n",
       "1    permanent             50000  \n",
       "2    permanent             40000  \n",
       "3    permanent             22500  \n",
       "4          NaN             20355  "
      ]
     },
     "execution_count": 34,
     "metadata": {},
     "output_type": "execute_result"
    }
   ],
   "source": [
    "data_train['FullDescription'] = data_train['FullDescription'].replace('[^a-zA-Z0-9]', \n",
    "                                                                      ' ', \n",
    "                                                                      regex = True)\n",
    "data_train.head()"
   ]
  },
  {
   "cell_type": "code",
   "execution_count": 35,
   "metadata": {
    "collapsed": false
   },
   "outputs": [
    {
     "name": "stdout",
     "output_type": "stream",
     "text": [
      "  (0, 9611)\t0.044905469531\n",
      "  (0, 20413)\t0.0387030844465\n",
      "  (0, 11722)\t0.024933985634\n",
      "  (0, 18451)\t0.0509414280173\n",
      "  (0, 3350)\t0.0278091732528\n",
      "  (0, 7709)\t0.0513052095322\n",
      "  (0, 12171)\t0.0197840606644\n",
      "  (0, 22197)\t0.020520635156\n",
      "  (0, 7323)\t0.0710102014974\n",
      "  (0, 2650)\t0.0354517428521\n",
      "  (0, 9932)\t0.056610755717\n",
      "  (0, 22668)\t0.026698650266\n",
      "  (0, 8484)\t0.0632466535586\n",
      "  (0, 11621)\t0.0523254457445\n",
      "  (0, 729)\t0.0419559898071\n",
      "  (0, 1237)\t0.0276577815977\n",
      "  (0, 19269)\t0.0554741613606\n",
      "  (0, 7094)\t0.0463080726794\n",
      "  (0, 22696)\t0.0384212030678\n",
      "  (0, 19369)\t0.0623002877546\n",
      "  (0, 8222)\t0.0585300289858\n",
      "  (0, 19504)\t0.0400154840551\n",
      "  (0, 11849)\t0.0542568250905\n",
      "  (0, 5700)\t0.0341651465765\n",
      "  (0, 10064)\t0.0304827906078\n",
      "  :\t:\n",
      "  (59998, 12439)\t0.0169587489335\n",
      "  (59999, 379)\t0.398779421241\n",
      "  (59999, 17671)\t0.309835924467\n",
      "  (59999, 13265)\t0.292441422637\n",
      "  (59999, 3962)\t0.288382093563\n",
      "  (59999, 5274)\t0.2462393629\n",
      "  (59999, 3334)\t0.210614491895\n",
      "  (59999, 3648)\t0.225947267134\n",
      "  (59999, 11904)\t0.174027313283\n",
      "  (59999, 1612)\t0.287928996536\n",
      "  (59999, 1410)\t0.129360497239\n",
      "  (59999, 18693)\t0.189278331537\n",
      "  (59999, 2396)\t0.155669083727\n",
      "  (59999, 13585)\t0.265779073878\n",
      "  (59999, 22592)\t0.0645245033074\n",
      "  (59999, 9851)\t0.167486349482\n",
      "  (59999, 1968)\t0.181442791714\n",
      "  (59999, 9406)\t0.173231861819\n",
      "  (59999, 14776)\t0.127543315995\n",
      "  (59999, 17348)\t0.0842918916829\n",
      "  (59999, 20886)\t0.163458530488\n",
      "  (59999, 22438)\t0.0502825914299\n",
      "  (59999, 2224)\t0.0497913903591\n",
      "  (59999, 20830)\t0.0866433918851\n",
      "  (59999, 1270)\t0.0432899344477\n"
     ]
    }
   ],
   "source": [
    "corpus = data_train['FullDescription']\n",
    "vectorizer = TfidfVectorizer(min_df = 5)\n",
    "X = vectorizer.fit_transform(corpus)\n",
    "print X\n",
    "# idf = vectorizer.idf_\n",
    "# print dict(zip(vectorizer.get_feature_names(), idf))"
   ]
  },
  {
   "cell_type": "code",
   "execution_count": 36,
   "metadata": {
    "collapsed": false
   },
   "outputs": [
    {
     "data": {
      "text/html": [
       "<div>\n",
       "<table border=\"1\" class=\"dataframe\">\n",
       "  <thead>\n",
       "    <tr style=\"text-align: right;\">\n",
       "      <th></th>\n",
       "      <th>FullDescription</th>\n",
       "      <th>LocationNormalized</th>\n",
       "      <th>ContractTime</th>\n",
       "      <th>SalaryNormalized</th>\n",
       "    </tr>\n",
       "  </thead>\n",
       "  <tbody>\n",
       "    <tr>\n",
       "      <th>0</th>\n",
       "      <td>international sales manager london     k      ...</td>\n",
       "      <td>London</td>\n",
       "      <td>permanent</td>\n",
       "      <td>33000</td>\n",
       "    </tr>\n",
       "    <tr>\n",
       "      <th>1</th>\n",
       "      <td>an ideal opportunity for an individual that ha...</td>\n",
       "      <td>London</td>\n",
       "      <td>permanent</td>\n",
       "      <td>50000</td>\n",
       "    </tr>\n",
       "    <tr>\n",
       "      <th>2</th>\n",
       "      <td>online content and brand manager   luxury reta...</td>\n",
       "      <td>South East London</td>\n",
       "      <td>permanent</td>\n",
       "      <td>40000</td>\n",
       "    </tr>\n",
       "    <tr>\n",
       "      <th>3</th>\n",
       "      <td>a great local marketleader is seeking a perman...</td>\n",
       "      <td>Dereham</td>\n",
       "      <td>permanent</td>\n",
       "      <td>22500</td>\n",
       "    </tr>\n",
       "    <tr>\n",
       "      <th>4</th>\n",
       "      <td>registered nurse   rgn  nursing home for young...</td>\n",
       "      <td>Sutton Coldfield</td>\n",
       "      <td>nan</td>\n",
       "      <td>20355</td>\n",
       "    </tr>\n",
       "  </tbody>\n",
       "</table>\n",
       "</div>"
      ],
      "text/plain": [
       "                                     FullDescription LocationNormalized  \\\n",
       "0  international sales manager london     k      ...             London   \n",
       "1  an ideal opportunity for an individual that ha...             London   \n",
       "2  online content and brand manager   luxury reta...  South East London   \n",
       "3  a great local marketleader is seeking a perman...            Dereham   \n",
       "4  registered nurse   rgn  nursing home for young...   Sutton Coldfield   \n",
       "\n",
       "  ContractTime  SalaryNormalized  \n",
       "0    permanent             33000  \n",
       "1    permanent             50000  \n",
       "2    permanent             40000  \n",
       "3    permanent             22500  \n",
       "4          nan             20355  "
      ]
     },
     "execution_count": 36,
     "metadata": {},
     "output_type": "execute_result"
    }
   ],
   "source": [
    "data_train['LocationNormalized'].fillna('nan', inplace=True)\n",
    "data_train['ContractTime'].fillna('nan', inplace=True)\n",
    "data_train.head()"
   ]
  },
  {
   "cell_type": "code",
   "execution_count": 37,
   "metadata": {
    "collapsed": false
   },
   "outputs": [
    {
     "name": "stdout",
     "output_type": "stream",
     "text": [
      "  (0, 2)\t1.0\n",
      "  (0, 957)\t1.0\n",
      "  (1, 2)\t1.0\n",
      "  (1, 957)\t1.0\n",
      "  (2, 2)\t1.0\n",
      "  (2, 1392)\t1.0\n",
      "  (3, 2)\t1.0\n",
      "  (3, 471)\t1.0\n",
      "  (4, 1)\t1.0\n",
      "  (4, 1495)\t1.0\n",
      "  (5, 1)\t1.0\n",
      "  (5, 422)\t1.0\n",
      "  (6, 2)\t1.0\n",
      "  (6, 1575)\t1.0\n",
      "  (7, 2)\t1.0\n",
      "  (7, 224)\t1.0\n",
      "  (8, 2)\t1.0\n",
      "  (8, 309)\t1.0\n",
      "  (9, 2)\t1.0\n",
      "  (9, 1392)\t1.0\n",
      "  (10, 0)\t1.0\n",
      "  (10, 86)\t1.0\n",
      "  (11, 2)\t1.0\n",
      "  (11, 639)\t1.0\n",
      "  (12, 2)\t1.0\n",
      "  :\t:\n",
      "  (59987, 1411)\t1.0\n",
      "  (59988, 1)\t1.0\n",
      "  (59988, 335)\t1.0\n",
      "  (59989, 2)\t1.0\n",
      "  (59989, 899)\t1.0\n",
      "  (59990, 2)\t1.0\n",
      "  (59990, 44)\t1.0\n",
      "  (59991, 2)\t1.0\n",
      "  (59991, 1665)\t1.0\n",
      "  (59992, 0)\t1.0\n",
      "  (59992, 957)\t1.0\n",
      "  (59993, 1)\t1.0\n",
      "  (59993, 957)\t1.0\n",
      "  (59994, 1)\t1.0\n",
      "  (59994, 679)\t1.0\n",
      "  (59995, 0)\t1.0\n",
      "  (59995, 1691)\t1.0\n",
      "  (59996, 2)\t1.0\n",
      "  (59996, 986)\t1.0\n",
      "  (59997, 1)\t1.0\n",
      "  (59997, 78)\t1.0\n",
      "  (59998, 2)\t1.0\n",
      "  (59998, 1531)\t1.0\n",
      "  (59999, 1)\t1.0\n",
      "  (59999, 957)\t1.0\n"
     ]
    }
   ],
   "source": [
    "enc = DictVectorizer()\n",
    "X_train_categ = enc.fit_transform(data_train[['LocationNormalized', 'ContractTime']].to_dict('records'))\n",
    "print X_train_categ"
   ]
  },
  {
   "cell_type": "code",
   "execution_count": 38,
   "metadata": {
    "collapsed": false
   },
   "outputs": [
    {
     "name": "stdout",
     "output_type": "stream",
     "text": [
      "  (0, 9611)\t0.044905469531\n",
      "  (0, 20413)\t0.0387030844465\n",
      "  (0, 11722)\t0.024933985634\n",
      "  (0, 18451)\t0.0509414280173\n",
      "  (0, 3350)\t0.0278091732528\n",
      "  (0, 7709)\t0.0513052095322\n",
      "  (0, 12171)\t0.0197840606644\n",
      "  (0, 22197)\t0.020520635156\n",
      "  (0, 7323)\t0.0710102014974\n",
      "  (0, 2650)\t0.0354517428521\n",
      "  (0, 9932)\t0.056610755717\n",
      "  (0, 22668)\t0.026698650266\n",
      "  (0, 8484)\t0.0632466535586\n",
      "  (0, 11621)\t0.0523254457445\n",
      "  (0, 729)\t0.0419559898071\n",
      "  (0, 1237)\t0.0276577815977\n",
      "  (0, 19269)\t0.0554741613606\n",
      "  (0, 7094)\t0.0463080726794\n",
      "  (0, 22696)\t0.0384212030678\n",
      "  (0, 19369)\t0.0623002877546\n",
      "  (0, 8222)\t0.0585300289858\n",
      "  (0, 19504)\t0.0400154840551\n",
      "  (0, 11849)\t0.0542568250905\n",
      "  (0, 5700)\t0.0341651465765\n",
      "  (0, 10064)\t0.0304827906078\n",
      "  :\t:\n",
      "  (59987, 24272)\t1.0\n",
      "  (59988, 22862)\t1.0\n",
      "  (59988, 23196)\t1.0\n",
      "  (59989, 22863)\t1.0\n",
      "  (59989, 23760)\t1.0\n",
      "  (59990, 22863)\t1.0\n",
      "  (59990, 22905)\t1.0\n",
      "  (59991, 22863)\t1.0\n",
      "  (59991, 24526)\t1.0\n",
      "  (59992, 22861)\t1.0\n",
      "  (59992, 23818)\t1.0\n",
      "  (59993, 22862)\t1.0\n",
      "  (59993, 23818)\t1.0\n",
      "  (59994, 22862)\t1.0\n",
      "  (59994, 23540)\t1.0\n",
      "  (59995, 22861)\t1.0\n",
      "  (59995, 24552)\t1.0\n",
      "  (59996, 22863)\t1.0\n",
      "  (59996, 23847)\t1.0\n",
      "  (59997, 22862)\t1.0\n",
      "  (59997, 22939)\t1.0\n",
      "  (59998, 22863)\t1.0\n",
      "  (59998, 24392)\t1.0\n",
      "  (59999, 22862)\t1.0\n",
      "  (59999, 23818)\t1.0\n"
     ]
    }
   ],
   "source": [
    "X_train = scipy.sparse.hstack((X, X_train_categ))\n",
    "print X_train"
   ]
  },
  {
   "cell_type": "code",
   "execution_count": 39,
   "metadata": {
    "collapsed": false
   },
   "outputs": [
    {
     "data": {
      "text/plain": [
       "Ridge(alpha=1, copy_X=True, fit_intercept=True, max_iter=None,\n",
       "   normalize=False, random_state=None, solver='auto', tol=0.001)"
      ]
     },
     "execution_count": 39,
     "metadata": {},
     "output_type": "execute_result"
    }
   ],
   "source": [
    "alpha = 1\n",
    "y = data_train['SalaryNormalized']\n",
    "clf = Ridge(alpha)\n",
    "clf.fit(X_train, y)"
   ]
  },
  {
   "cell_type": "code",
   "execution_count": 40,
   "metadata": {
    "collapsed": false
   },
   "outputs": [
    {
     "name": "stdout",
     "output_type": "stream",
     "text": [
      "  (0, 22611)\t0.0707679865816\n",
      "  (0, 22592)\t0.0165910215485\n",
      "  (0, 22526)\t0.0184159459661\n",
      "  (0, 22519)\t0.087306264688\n",
      "  (0, 22438)\t0.0258580698857\n",
      "  (0, 22197)\t0.0203974482395\n",
      "  (0, 21690)\t0.0325363894395\n",
      "  (0, 21560)\t0.0264080879516\n",
      "  (0, 21420)\t0.0615893289342\n",
      "  (0, 21101)\t0.0373072371724\n",
      "  (0, 21026)\t0.0267124879725\n",
      "  (0, 20978)\t0.070290844657\n",
      "  (0, 20830)\t0.178227161233\n",
      "  (0, 20759)\t0.0276993624394\n",
      "  (0, 20704)\t0.0290466624595\n",
      "  (0, 20663)\t0.0266247830328\n",
      "  (0, 20644)\t0.0252882257487\n",
      "  (0, 20637)\t0.0379559723125\n",
      "  (0, 20595)\t0.158692223423\n",
      "  (0, 20592)\t0.0201439745087\n",
      "  (0, 20361)\t0.0170104125666\n",
      "  (0, 20250)\t0.0516527432181\n",
      "  (0, 20181)\t0.109929609148\n",
      "  (0, 19900)\t0.071602346549\n",
      "  (0, 19897)\t0.0449759765787\n",
      "  :\t:\n",
      "  (1, 4095)\t0.0558916386336\n",
      "  (1, 4064)\t0.0387230846297\n",
      "  (1, 4057)\t0.0266591377701\n",
      "  (1, 3350)\t0.0387829275395\n",
      "  (1, 2397)\t0.097188824991\n",
      "  (1, 2299)\t0.0491777529956\n",
      "  (1, 2272)\t0.0488008344785\n",
      "  (1, 2224)\t0.0179626406209\n",
      "  (1, 2164)\t0.0317241587271\n",
      "  (1, 1928)\t0.0466188061046\n",
      "  (1, 1762)\t0.0276706846171\n",
      "  (1, 1657)\t0.222026293877\n",
      "  (1, 1606)\t0.0197131992256\n",
      "  (1, 1537)\t0.0613535282107\n",
      "  (1, 1518)\t0.0400873111529\n",
      "  (1, 1413)\t0.0415614962598\n",
      "  (1, 1280)\t0.110472883563\n",
      "  (1, 1270)\t0.218640640707\n",
      "  (1, 1237)\t0.0385717953517\n",
      "  (1, 658)\t0.0599953348212\n",
      "  (1, 488)\t0.0454487087537\n",
      "  (0, 22861)\t1.0\n",
      "  (0, 23901)\t1.0\n",
      "  (1, 22863)\t1.0\n",
      "  (1, 23858)\t1.0\n"
     ]
    }
   ],
   "source": [
    "data_test['FullDescription'] = data_test['FullDescription'].str.lower()\n",
    "data_train['FullDescription'] = data_test['FullDescription'].replace('[^a-zA-Z0-9]', \n",
    "                                                                      ' ', \n",
    "                                                                      regex = True)\n",
    "data_test['LocationNormalized'].fillna('nan', inplace=True)\n",
    "data_test['ContractTime'].fillna('nan', inplace=True)\n",
    "X_desc = vectorizer.transform(data_test['FullDescription'])\n",
    "X_cat = enc.transform(data_test[['LocationNormalized', 'ContractTime']].to_dict('records'))\n",
    "X_test = scipy.sparse.hstack((X_desc, X_cat))\n",
    "print X_test\n",
    "result = clf.predict(X_test)"
   ]
  },
  {
   "cell_type": "code",
   "execution_count": 41,
   "metadata": {
    "collapsed": false
   },
   "outputs": [
    {
     "name": "stdout",
     "output_type": "stream",
     "text": [
      "[ 56574.42220335  37197.35403401]\n"
     ]
    }
   ],
   "source": [
    "print result"
   ]
  }
 ],
 "metadata": {
  "kernelspec": {
   "display_name": "Python 2",
   "language": "python",
   "name": "python2"
  },
  "language_info": {
   "codemirror_mode": {
    "name": "ipython",
    "version": 2
   },
   "file_extension": ".py",
   "mimetype": "text/x-python",
   "name": "python",
   "nbconvert_exporter": "python",
   "pygments_lexer": "ipython2",
   "version": "2.7.10"
  }
 },
 "nbformat": 4,
 "nbformat_minor": 0
}
