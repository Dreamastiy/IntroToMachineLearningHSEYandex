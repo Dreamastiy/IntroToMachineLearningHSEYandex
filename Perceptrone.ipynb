{
 "metadata": {
  "name": "",
  "signature": "sha256:5435848a73a4af1161de5994e884ea3182328ba6dc53eefc54569a8bc9eb1ade"
 },
 "nbformat": 3,
 "nbformat_minor": 0,
 "worksheets": [
  {
   "cells": [
    {
     "cell_type": "code",
     "collapsed": false,
     "input": [
      "import pandas\n",
      "import numpy\n",
      "import sklearn.cross_validation\n",
      "from sklearn.linear_model import Perceptron\n",
      "from sklearn.preprocessing import StandardScaler\n",
      "# sklearn.metrics.accuracy_score"
     ],
     "language": "python",
     "metadata": {},
     "outputs": [],
     "prompt_number": 2
    },
    {
     "cell_type": "code",
     "collapsed": false,
     "input": [
      "data_train = pandas.read_csv(u'C:\\\\Users\\\\Dmi\\\\Desktop\\\\MatLab\\\\Coursera\\\\\u0412\u0432\u0435\u0434\u0435\u043d\u0438\u0435 \u0432 \u043c\u0430\u0448\u0438\u043d\u043d\u043e\u0435 \u043e\u0431\u0443\u0447\u0435\u043d\u0438\u0435\\\\\u041d\u0435\u0434\u0435\u043b\u044f 2\\\\perceptron-train.csv',\n",
      "                       header = None)\n",
      "data_test = pandas.read_csv(u'C:\\\\Users\\\\Dmi\\\\Desktop\\\\MatLab\\\\Coursera\\\\\u0412\u0432\u0435\u0434\u0435\u043d\u0438\u0435 \u0432 \u043c\u0430\u0448\u0438\u043d\u043d\u043e\u0435 \u043e\u0431\u0443\u0447\u0435\u043d\u0438\u0435\\\\\u041d\u0435\u0434\u0435\u043b\u044f 2\\\\perceptron-test.csv',\n",
      "                       header = None)"
     ],
     "language": "python",
     "metadata": {},
     "outputs": [],
     "prompt_number": 7
    },
    {
     "cell_type": "code",
     "collapsed": false,
     "input": [
      "print data_train.head()\n",
      "print data_test.head()\n",
      "X_train = data_train.ix[:, 1:]\n",
      "X_test = data_test.ix[:, 1:]\n",
      "Y_train = data_train[0]\n",
      "Y_test = data_test[0]"
     ],
     "language": "python",
     "metadata": {},
     "outputs": [
      {
       "output_type": "stream",
       "stream": "stdout",
       "text": [
        "   0         1            2\n",
        "0  0 -0.024626  1174.600238\n",
        "1  1 -0.978058  1083.198803\n",
        "2 -1  0.314272 -1472.977609\n",
        "3  0  0.179752   231.017267\n",
        "4  1 -1.262544  -778.271726\n",
        "   0         1            2\n",
        "0  0  1.651437  1337.453826\n",
        "1  1 -0.866495  1191.232457\n",
        "2  0  0.789828  -475.647768\n",
        "3  0  0.179549  1959.095353\n",
        "4  1 -0.434351   568.504207\n"
       ]
      }
     ],
     "prompt_number": 13
    },
    {
     "cell_type": "code",
     "collapsed": false,
     "input": [
      "clf = Perceptron(random_state=241)\n",
      "clf.fit(X_train, Y_train)\n",
      "predictions_nn = clf.predict(X_test)"
     ],
     "language": "python",
     "metadata": {},
     "outputs": [],
     "prompt_number": 27
    },
    {
     "cell_type": "code",
     "collapsed": false,
     "input": [
      "not_normalized = sklearn.metrics.accuracy_score(Y_test, predictions_nn)\n",
      "print round(not_normalized, 3)"
     ],
     "language": "python",
     "metadata": {},
     "outputs": [
      {
       "output_type": "stream",
       "stream": "stdout",
       "text": [
        "0.36\n"
       ]
      }
     ],
     "prompt_number": 28
    },
    {
     "cell_type": "code",
     "collapsed": false,
     "input": [
      "scaler = StandardScaler()\n",
      "X_train_scaled = scaler.fit_transform(X_train)\n",
      "X_test_scaled = scaler.transform(X_test)"
     ],
     "language": "python",
     "metadata": {},
     "outputs": [],
     "prompt_number": 29
    },
    {
     "cell_type": "code",
     "collapsed": false,
     "input": [
      "clf.fit(X_train_scaled, Y_train)\n",
      "predictions_nn = clf.predict(X_test_scaled)\n",
      "normalized = sklearn.metrics.accuracy_score(Y_test, predictions_nn)\n",
      "print round(normalized, 3)"
     ],
     "language": "python",
     "metadata": {},
     "outputs": [
      {
       "output_type": "stream",
       "stream": "stdout",
       "text": [
        "0.925\n"
       ]
      }
     ],
     "prompt_number": 31
    },
    {
     "cell_type": "code",
     "collapsed": false,
     "input": [
      "print normalized - not_normalized"
     ],
     "language": "python",
     "metadata": {},
     "outputs": [
      {
       "output_type": "stream",
       "stream": "stdout",
       "text": [
        "0.565\n"
       ]
      }
     ],
     "prompt_number": 32
    }
   ],
   "metadata": {}
  }
 ]
}