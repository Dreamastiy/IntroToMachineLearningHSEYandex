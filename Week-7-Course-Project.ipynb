{
 "cells": [
  {
   "cell_type": "markdown",
   "metadata": {},
   "source": [
    "## Предсказание победы по данным о первых 5 минутах игры Dota 2  с помощью python"
   ]
  },
  {
   "cell_type": "markdown",
   "metadata": {},
   "source": [
    "Загружаем все необходимые библиотеки для дальнейшей работы и прописываем `%matplotlib inline` для отображения всех графиков внутри Jupyter Notebook."
   ]
  },
  {
   "cell_type": "code",
   "execution_count": 1,
   "metadata": {
    "collapsed": true
   },
   "outputs": [],
   "source": [
    "import pandas\n",
    "import scipy\n",
    "import numpy\n",
    "import math\n",
    "import time\n",
    "import datetime\n",
    "from sklearn.cross_validation import KFold\n",
    "from sklearn.cross_validation import cross_val_score\n",
    "from sklearn.cross_validation import train_test_split\n",
    "from sklearn.grid_search import GridSearchCV\n",
    "from sklearn.ensemble import GradientBoostingClassifier\n",
    "from sklearn.linear_model import LogisticRegression\n",
    "from sklearn.metrics import roc_auc_score, roc_curve, auc\n",
    "from sklearn.metrics import log_loss\n",
    "from sklearn.preprocessing import StandardScaler\n",
    "import matplotlib.pyplot as plt\n",
    "%matplotlib inline"
   ]
  },
  {
   "cell_type": "markdown",
   "metadata": {},
   "source": [
    "Загружаем исходные данные, смотрим длину выборки и выводим для проверки первые несколько строк."
   ]
  },
  {
   "cell_type": "code",
   "execution_count": 2,
   "metadata": {
    "collapsed": false
   },
   "outputs": [
    {
     "name": "stdout",
     "output_type": "stream",
     "text": [
      "97230\n"
     ]
    },
    {
     "data": {
      "text/html": [
       "<div>\n",
       "<table border=\"1\" class=\"dataframe\">\n",
       "  <thead>\n",
       "    <tr style=\"text-align: right;\">\n",
       "      <th></th>\n",
       "      <th>start_time</th>\n",
       "      <th>lobby_type</th>\n",
       "      <th>r1_hero</th>\n",
       "      <th>r1_level</th>\n",
       "      <th>r1_xp</th>\n",
       "      <th>r1_gold</th>\n",
       "      <th>r1_lh</th>\n",
       "      <th>r1_kills</th>\n",
       "      <th>r1_deaths</th>\n",
       "      <th>r1_items</th>\n",
       "      <th>...</th>\n",
       "      <th>dire_boots_count</th>\n",
       "      <th>dire_ward_observer_count</th>\n",
       "      <th>dire_ward_sentry_count</th>\n",
       "      <th>dire_first_ward_time</th>\n",
       "      <th>duration</th>\n",
       "      <th>radiant_win</th>\n",
       "      <th>tower_status_radiant</th>\n",
       "      <th>tower_status_dire</th>\n",
       "      <th>barracks_status_radiant</th>\n",
       "      <th>barracks_status_dire</th>\n",
       "    </tr>\n",
       "    <tr>\n",
       "      <th>match_id</th>\n",
       "      <th></th>\n",
       "      <th></th>\n",
       "      <th></th>\n",
       "      <th></th>\n",
       "      <th></th>\n",
       "      <th></th>\n",
       "      <th></th>\n",
       "      <th></th>\n",
       "      <th></th>\n",
       "      <th></th>\n",
       "      <th></th>\n",
       "      <th></th>\n",
       "      <th></th>\n",
       "      <th></th>\n",
       "      <th></th>\n",
       "      <th></th>\n",
       "      <th></th>\n",
       "      <th></th>\n",
       "      <th></th>\n",
       "      <th></th>\n",
       "      <th></th>\n",
       "    </tr>\n",
       "  </thead>\n",
       "  <tbody>\n",
       "    <tr>\n",
       "      <th>0</th>\n",
       "      <td>1430198770</td>\n",
       "      <td>7</td>\n",
       "      <td>11</td>\n",
       "      <td>5</td>\n",
       "      <td>2098</td>\n",
       "      <td>1489</td>\n",
       "      <td>20</td>\n",
       "      <td>0</td>\n",
       "      <td>0</td>\n",
       "      <td>7</td>\n",
       "      <td>...</td>\n",
       "      <td>4</td>\n",
       "      <td>2</td>\n",
       "      <td>2</td>\n",
       "      <td>-52</td>\n",
       "      <td>2874</td>\n",
       "      <td>1</td>\n",
       "      <td>1796</td>\n",
       "      <td>0</td>\n",
       "      <td>51</td>\n",
       "      <td>0</td>\n",
       "    </tr>\n",
       "    <tr>\n",
       "      <th>1</th>\n",
       "      <td>1430220345</td>\n",
       "      <td>0</td>\n",
       "      <td>42</td>\n",
       "      <td>4</td>\n",
       "      <td>1188</td>\n",
       "      <td>1033</td>\n",
       "      <td>9</td>\n",
       "      <td>0</td>\n",
       "      <td>1</td>\n",
       "      <td>12</td>\n",
       "      <td>...</td>\n",
       "      <td>4</td>\n",
       "      <td>3</td>\n",
       "      <td>1</td>\n",
       "      <td>-5</td>\n",
       "      <td>2463</td>\n",
       "      <td>1</td>\n",
       "      <td>1974</td>\n",
       "      <td>0</td>\n",
       "      <td>63</td>\n",
       "      <td>1</td>\n",
       "    </tr>\n",
       "    <tr>\n",
       "      <th>2</th>\n",
       "      <td>1430227081</td>\n",
       "      <td>7</td>\n",
       "      <td>33</td>\n",
       "      <td>4</td>\n",
       "      <td>1319</td>\n",
       "      <td>1270</td>\n",
       "      <td>22</td>\n",
       "      <td>0</td>\n",
       "      <td>0</td>\n",
       "      <td>12</td>\n",
       "      <td>...</td>\n",
       "      <td>4</td>\n",
       "      <td>3</td>\n",
       "      <td>1</td>\n",
       "      <td>13</td>\n",
       "      <td>2130</td>\n",
       "      <td>0</td>\n",
       "      <td>0</td>\n",
       "      <td>1830</td>\n",
       "      <td>0</td>\n",
       "      <td>63</td>\n",
       "    </tr>\n",
       "    <tr>\n",
       "      <th>3</th>\n",
       "      <td>1430263531</td>\n",
       "      <td>1</td>\n",
       "      <td>29</td>\n",
       "      <td>4</td>\n",
       "      <td>1779</td>\n",
       "      <td>1056</td>\n",
       "      <td>14</td>\n",
       "      <td>0</td>\n",
       "      <td>0</td>\n",
       "      <td>5</td>\n",
       "      <td>...</td>\n",
       "      <td>4</td>\n",
       "      <td>2</td>\n",
       "      <td>0</td>\n",
       "      <td>27</td>\n",
       "      <td>1459</td>\n",
       "      <td>0</td>\n",
       "      <td>1920</td>\n",
       "      <td>2047</td>\n",
       "      <td>50</td>\n",
       "      <td>63</td>\n",
       "    </tr>\n",
       "    <tr>\n",
       "      <th>4</th>\n",
       "      <td>1430282290</td>\n",
       "      <td>7</td>\n",
       "      <td>13</td>\n",
       "      <td>4</td>\n",
       "      <td>1431</td>\n",
       "      <td>1090</td>\n",
       "      <td>8</td>\n",
       "      <td>1</td>\n",
       "      <td>0</td>\n",
       "      <td>8</td>\n",
       "      <td>...</td>\n",
       "      <td>3</td>\n",
       "      <td>3</td>\n",
       "      <td>0</td>\n",
       "      <td>-16</td>\n",
       "      <td>2449</td>\n",
       "      <td>0</td>\n",
       "      <td>4</td>\n",
       "      <td>1974</td>\n",
       "      <td>3</td>\n",
       "      <td>63</td>\n",
       "    </tr>\n",
       "  </tbody>\n",
       "</table>\n",
       "<p>5 rows × 108 columns</p>\n",
       "</div>"
      ],
      "text/plain": [
       "          start_time  lobby_type  r1_hero  r1_level  r1_xp  r1_gold  r1_lh  \\\n",
       "match_id                                                                     \n",
       "0         1430198770           7       11         5   2098     1489     20   \n",
       "1         1430220345           0       42         4   1188     1033      9   \n",
       "2         1430227081           7       33         4   1319     1270     22   \n",
       "3         1430263531           1       29         4   1779     1056     14   \n",
       "4         1430282290           7       13         4   1431     1090      8   \n",
       "\n",
       "          r1_kills  r1_deaths  r1_items          ...           \\\n",
       "match_id                                         ...            \n",
       "0                0          0         7          ...            \n",
       "1                0          1        12          ...            \n",
       "2                0          0        12          ...            \n",
       "3                0          0         5          ...            \n",
       "4                1          0         8          ...            \n",
       "\n",
       "          dire_boots_count  dire_ward_observer_count  dire_ward_sentry_count  \\\n",
       "match_id                                                                       \n",
       "0                        4                         2                       2   \n",
       "1                        4                         3                       1   \n",
       "2                        4                         3                       1   \n",
       "3                        4                         2                       0   \n",
       "4                        3                         3                       0   \n",
       "\n",
       "          dire_first_ward_time  duration  radiant_win  tower_status_radiant  \\\n",
       "match_id                                                                      \n",
       "0                          -52      2874            1                  1796   \n",
       "1                           -5      2463            1                  1974   \n",
       "2                           13      2130            0                     0   \n",
       "3                           27      1459            0                  1920   \n",
       "4                          -16      2449            0                     4   \n",
       "\n",
       "          tower_status_dire  barracks_status_radiant  barracks_status_dire  \n",
       "match_id                                                                    \n",
       "0                         0                       51                     0  \n",
       "1                         0                       63                     1  \n",
       "2                      1830                        0                    63  \n",
       "3                      2047                       50                    63  \n",
       "4                      1974                        3                    63  \n",
       "\n",
       "[5 rows x 108 columns]"
      ]
     },
     "execution_count": 2,
     "metadata": {},
     "output_type": "execute_result"
    }
   ],
   "source": [
    "features = pandas.read_csv(u'features.csv', \n",
    "                           index_col='match_id')\n",
    "print len(features)\n",
    "features.head()"
   ]
  },
  {
   "cell_type": "markdown",
   "metadata": {},
   "source": [
    "Нескольких столбцов нет в финальной тестовой выборке - уберем их все, кроме целевой переменной '**radiant_win**'. Также среди оставшихся столбцов найдем столбцы с пропусками и выведем для них количество пропусков."
   ]
  },
  {
   "cell_type": "code",
   "execution_count": 3,
   "metadata": {
    "collapsed": false
   },
   "outputs": [
    {
     "name": "stdout",
     "output_type": "stream",
     "text": [
      "first_blood_time               19553\n",
      "first_blood_team               19553\n",
      "first_blood_player1            19553\n",
      "first_blood_player2            43987\n",
      "radiant_bottle_time            15691\n",
      "radiant_courier_time             692\n",
      "radiant_flying_courier_time    27479\n",
      "radiant_first_ward_time         1836\n",
      "dire_bottle_time               16143\n",
      "dire_courier_time                676\n",
      "dire_flying_courier_time       26098\n",
      "dire_first_ward_time            1826\n",
      "dtype: int64\n"
     ]
    }
   ],
   "source": [
    "cols = [col for col in features.columns if col not in ['start_time',\n",
    "                                                       'duration', \n",
    "                                                       'tower_status_radiant', \n",
    "                                                       'tower_status_dire', \n",
    "                                                       'barracks_status_radiant',\n",
    "                                                       'barracks_status_dire']]\n",
    "features_u = features[cols]\n",
    "nans = len(features) - features_u.count()\n",
    "print nans[nans != 0]"
   ]
  },
  {
   "cell_type": "markdown",
   "metadata": {},
   "source": [
    "Попробуем обосновать наличие пропусков:\n",
    "\n",
    "*`first_blood_time`*               - в течении первых 5 минут не наступило событие 'первая кровь';  \n",
    "*`first_blood_team`*               - т.к. 'первая кровь' не наступило - нет команды, совершившей событие;  \n",
    "*`first_blood_player1`*            - т.к. 'первая кровь' не наступило - нет игрока, совершившего событие;  \n",
    "*`first_blood_player2`*            - т.к. 'первая кровь' не наступило - нет игрока, помогшего совершить событие;  \n",
    "*`radiant_bottle_time`*            - в течении первых 5 минут не было приобретения предмета \"bottle\" командой radiant;  \n",
    "*`radiant_courier_time`*           - в течении первых 5 минут не было приобретения предмета \"courier\" командой radiant;  \n",
    "*`radiant_flying_courier_time`*    - в течении первых 5 минут не было приобретения предмета \"flying_courier\" командой radiant;  \n",
    "*`radiant_first_ward_time`*        - в течении первых 5 минут командой radiant не был установлен ни один \"наблюдатель\";  \n",
    "*`dire_bottle_time`*               - в течении первых 5 минут не было приобретения предмета \"bottle\" командой dire;  \n",
    "*`dire_courier_time`*              - в течении первых 5 минут не было приобретения предмета \"courier\" командой dire;  \n",
    "*`dire_flying_courier_time`*       - в течении первых 5 минут не было приобретения предмета \"flying_courier\" командой dire;  \n",
    "*`dire_first_ward_time`*           - в течении первых 5 минут командой dire не был установлен ни один \"наблюдатель\".  "
   ]
  },
  {
   "cell_type": "markdown",
   "metadata": {},
   "source": [
    "Заполним все пропуски нулевыми значениями:"
   ]
  },
  {
   "cell_type": "code",
   "execution_count": 4,
   "metadata": {
    "collapsed": true
   },
   "outputs": [],
   "source": [
    "features_u = features_u.fillna(value = 0)"
   ]
  },
  {
   "cell_type": "markdown",
   "metadata": {},
   "source": [
    "Разделим полученные данные на целевую переменную *y* и матрицу признаков *X* (целевая переменная находится в столбце '**radiant_win**'):"
   ]
  },
  {
   "cell_type": "code",
   "execution_count": 5,
   "metadata": {
    "collapsed": true
   },
   "outputs": [],
   "source": [
    "y = features_u['radiant_win']\n",
    "X = features_u.drop('radiant_win', 1)"
   ]
  },
  {
   "cell_type": "markdown",
   "metadata": {},
   "source": [
    "Т.к. компьютер не очень мощный и с небольшим количество оперативной памяти - сделаем подвыборку исходных данных и в дальнейшем будем работать с этой подвыборкой. От общего числа возьмем половину данных:"
   ]
  },
  {
   "cell_type": "code",
   "execution_count": 6,
   "metadata": {
    "collapsed": true
   },
   "outputs": [],
   "source": [
    "X_train, X_test, y_train, y_test = train_test_split(X, \n",
    "                                                    y,\n",
    "                                                    test_size = 0.5, \n",
    "                                                    random_state = 1)\n",
    "X = X_train\n",
    "y = y_train"
   ]
  },
  {
   "cell_type": "markdown",
   "metadata": {},
   "source": [
    "Теперь полученную подвыборку разобъем на обучающую и тестовую части - в соотношении 1:1 - чтобы еще уменьшить нагрузку на компьютер:"
   ]
  },
  {
   "cell_type": "code",
   "execution_count": 7,
   "metadata": {
    "collapsed": true
   },
   "outputs": [],
   "source": [
    "X_train, X_test, y_train, y_test = train_test_split(X, \n",
    "                                                    y, \n",
    "                                                    test_size = 0.5, \n",
    "                                                    random_state = 1)"
   ]
  },
  {
   "cell_type": "markdown",
   "metadata": {},
   "source": [
    "Зафиксируем генератор разбиений для кросс-валидации:"
   ]
  },
  {
   "cell_type": "code",
   "execution_count": 8,
   "metadata": {
    "collapsed": true
   },
   "outputs": [],
   "source": [
    "kF = KFold(n = len(y_train),\n",
    "          random_state = 1,\n",
    "          n_folds = 5,\n",
    "          shuffle = True)"
   ]
  },
  {
   "cell_type": "markdown",
   "metadata": {},
   "source": [
    "## Градиентный бустинг\n",
    "\n",
    "Создадим классификатор, использующий метод градиентного бустинга (GradientBoostingClassifier):"
   ]
  },
  {
   "cell_type": "code",
   "execution_count": 9,
   "metadata": {
    "collapsed": true
   },
   "outputs": [],
   "source": [
    "clf = GradientBoostingClassifier(verbose = 0,\n",
    "                                random_state = 1)"
   ]
  },
  {
   "cell_type": "markdown",
   "metadata": {},
   "source": [
    "Проведем поиск по сетке параметров - в качестве параметра будет выступать количество деревьев '*n_estimators*':"
   ]
  },
  {
   "cell_type": "code",
   "execution_count": 10,
   "metadata": {
    "collapsed": false
   },
   "outputs": [
    {
     "data": {
      "text/plain": [
       "GridSearchCV(cv=sklearn.cross_validation.KFold(n=24307, n_folds=5, shuffle=True, random_state=1),\n",
       "       error_score='raise',\n",
       "       estimator=GradientBoostingClassifier(init=None, learning_rate=0.1, loss='deviance',\n",
       "              max_depth=3, max_features=None, max_leaf_nodes=None,\n",
       "              min_samples_leaf=1, min_samples_split=2,\n",
       "              min_weight_fraction_leaf=0.0, n_estimators=100,\n",
       "              presort='auto', random_state=1, subsample=1.0, verbose=0,\n",
       "              warm_start=False),\n",
       "       fit_params={}, iid=True, n_jobs=1,\n",
       "       param_grid={'n_estimators': [10, 20, 30]}, pre_dispatch='2*n_jobs',\n",
       "       refit=True, scoring='roc_auc', verbose=0)"
      ]
     },
     "execution_count": 10,
     "metadata": {},
     "output_type": "execute_result"
    }
   ],
   "source": [
    "params = {'n_estimators':[10, 20, 30]}\n",
    "clf_grid = GridSearchCV(clf, \n",
    "                        params,\n",
    "                        cv = kF,\n",
    "                        scoring = 'roc_auc'\n",
    "                       )\n",
    "clf_grid.fit(X_train, y_train)"
   ]
  },
  {
   "cell_type": "markdown",
   "metadata": {},
   "source": [
    "Т.к. мерой качества выступает *ROC_AUC* выведем графики метрики наилучшего классификатора для обучающей и тестовой выборок, а также график зависимости *ROC_AUC* от количества деревьев в бустинге:"
   ]
  },
  {
   "cell_type": "code",
   "execution_count": 11,
   "metadata": {
    "collapsed": false
   },
   "outputs": [
    {
     "data": {
      "image/png": "[encoded data removed]",
      "text/plain": [
       "<matplotlib.figure.Figure at 0x13fb2e10>"
      ]
     },
     "metadata": {},
     "output_type": "display_data"
    },
    {
     "data": {
      "image/png": "[encoded data removed]",
      "text/plain": [
       "<matplotlib.figure.Figure at 0x16e1f110>"
      ]
     },
     "metadata": {},
     "output_type": "display_data"
    },
    {
     "data": {
      "text/plain": [
       "<matplotlib.legend.Legend at 0x169cb610>"
      ]
     },
     "execution_count": 11,
     "metadata": {},
     "output_type": "execute_result"
    },
    {
     "data": {
      "image/png": "[encoded data removed]",
      "text/plain": [
       "<matplotlib.figure.Figure at 0x16e075d0>"
      ]
     },
     "metadata": {},
     "output_type": "display_data"
    }
   ],
   "source": [
    "y_train_score = clf_grid.decision_function(X_train)\n",
    "y_test_score = clf_grid.decision_function(X_test)\n",
    "\n",
    "fpr, tpr, _ = roc_curve(y_train, y_train_score)\n",
    "roc_auc = auc(fpr, tpr)\n",
    "plt.figure()\n",
    "plt.plot(fpr, tpr, label = u'ROC curve (area = %0.4f)' % roc_auc)\n",
    "plt.plot([0, 1], [0, 1], 'k--')\n",
    "plt.xlim([0.0, 1.0])\n",
    "plt.ylim([0.0, 1.05])\n",
    "plt.xlabel('False Positive Rate')\n",
    "plt.ylabel('True Positive Rate')\n",
    "plt.title('Gradient Boosting on train data')\n",
    "plt.legend(loc = \"lower right\")\n",
    "plt.show()\n",
    "\n",
    "fpr, tpr, _ = roc_curve(y_test, y_test_score)\n",
    "roc_auc = auc(fpr, tpr)\n",
    "plt.figure()\n",
    "plt.plot(fpr, tpr, label = u'ROC curve (area = %0.4f)' % roc_auc)\n",
    "plt.plot([0, 1], [0, 1], 'k--')\n",
    "plt.xlim([0.0, 1.0])\n",
    "plt.ylim([0.0, 1.05])\n",
    "plt.xlabel('False Positive Rate')\n",
    "plt.ylabel('True Positive Rate')\n",
    "plt.title('Gradient Boosting on test data')\n",
    "plt.legend(loc = \"lower right\")\n",
    "plt.show()\n",
    "\n",
    "y_score_train = numpy.empty(len(clf_grid.best_estimator_.estimators_))\n",
    "y_score_test = numpy.empty(len(clf_grid.best_estimator_.estimators_))\n",
    "n = 0\n",
    "for i, x in enumerate(clf_grid.best_estimator_.staged_decision_function(X_train) ):\n",
    "    y_score_train[i] = roc_auc_score(y_train, x)\n",
    "for i, x in enumerate(clf_grid.best_estimator_.staged_decision_function(X_test) ):\n",
    "    y_score_test[i] = roc_auc_score(y_test, x)\n",
    "\n",
    "plt.figure()\n",
    "plt.plot(y_score_test, 'r', linewidth = 2)\n",
    "plt.plot(y_score_train, 'g', linewidth = 2)\n",
    "plt.legend(['test', 'train'], loc=\"lower right\")"
   ]
  },
  {
   "cell_type": "markdown",
   "metadata": {},
   "source": [
    "Из последнего графика видно, что увеличение количества классификаторов имеет смысл, т.к. график качества от количества деревьев еще не вышел на плато.\n",
    "\n",
    "Замерим время обучения классификатора на 30 деревьях и выведем значение метрики качества:"
   ]
  },
  {
   "cell_type": "code",
   "execution_count": 12,
   "metadata": {
    "collapsed": false
   },
   "outputs": [
    {
     "name": "stdout",
     "output_type": "stream",
     "text": [
      "Time elapsed: 0:00:44.169000\n",
      "ROC_AUC: 0.68301465789\n"
     ]
    }
   ],
   "source": [
    "clf_1 = GradientBoostingClassifier(verbose = 0,\n",
    "                                random_state = 1,\n",
    "                                n_estimators = 30)\n",
    "start_time = datetime.datetime.now()\n",
    "val = cross_val_score(estimator = clf_1,\n",
    "                     X = X_train,\n",
    "                     y = y_train,\n",
    "                     scoring = 'roc_auc',\n",
    "                     cv = kF)\n",
    "\n",
    "print 'Time elapsed:', datetime.datetime.now() - start_time\n",
    "print 'ROC_AUC:', str(val.mean())"
   ]
  },
  {
   "cell_type": "markdown",
   "metadata": {},
   "source": [
    "Для ускорения процесса обучения можно уменьшить глубину деревьев.\n",
    "\n",
    "## Логистическая регрессия\n",
    "\n",
    "Отмасштабируем исходные переменные:"
   ]
  },
  {
   "cell_type": "code",
   "execution_count": 13,
   "metadata": {
    "collapsed": true
   },
   "outputs": [],
   "source": [
    "scaler = StandardScaler()\n",
    "scaler.fit(X)\n",
    "X_scaled = pandas.DataFrame(scaler.transform(X))\n",
    "X_scaled.columns = X.columns"
   ]
  },
  {
   "cell_type": "markdown",
   "metadata": {},
   "source": [
    "Разобъем отмасштабированные данные на тестовую и обучающую выборки:"
   ]
  },
  {
   "cell_type": "code",
   "execution_count": 14,
   "metadata": {
    "collapsed": true
   },
   "outputs": [],
   "source": [
    "X_train, X_test, y_train, y_test = train_test_split(X_scaled, \n",
    "                                                    y, \n",
    "                                                    test_size = 0.5, \n",
    "                                                    random_state = 1)"
   ]
  },
  {
   "cell_type": "markdown",
   "metadata": {},
   "source": [
    "Проведем поиск по сетке параметров - в качестве параметра будет выступать коэффициент регуляризации '*C*':"
   ]
  },
  {
   "cell_type": "code",
   "execution_count": 15,
   "metadata": {
    "collapsed": false
   },
   "outputs": [
    {
     "data": {
      "text/plain": [
       "GridSearchCV(cv=sklearn.cross_validation.KFold(n=24307, n_folds=5, shuffle=True, random_state=1),\n",
       "       error_score='raise',\n",
       "       estimator=LogisticRegression(C=1.0, class_weight=None, dual=False, fit_intercept=True,\n",
       "          intercept_scaling=1, max_iter=100, multi_class='ovr', n_jobs=1,\n",
       "          penalty='l2', random_state=1, solver='liblinear', tol=0.0001,\n",
       "          verbose=0, warm_start=False),\n",
       "       fit_params={}, iid=True, n_jobs=1,\n",
       "       param_grid={'C': array([  1.00000e-05,   1.00000e-04,   1.00000e-03,   1.00000e-02,\n",
       "         1.00000e-01,   1.00000e+00,   1.00000e+01,   1.00000e+02,\n",
       "         1.00000e+03,   1.00000e+04,   1.00000e+05])},\n",
       "       pre_dispatch='2*n_jobs', refit=True, scoring='roc_auc', verbose=0)"
      ]
     },
     "execution_count": 15,
     "metadata": {},
     "output_type": "execute_result"
    }
   ],
   "source": [
    "logreg_grid = {'C': numpy.power(10.0, numpy.arange(-5, 6, 1))}\n",
    "clf_logreg = LogisticRegression(random_state = 1, verbose = 0)\n",
    "clf_logreg_grid = GridSearchCV(clf_logreg, \n",
    "                               logreg_grid,\n",
    "                               cv = kF,\n",
    "                               scoring = 'roc_auc'\n",
    "                               )\n",
    "clf_logreg_grid.fit(X_train, y_train)"
   ]
  },
  {
   "cell_type": "markdown",
   "metadata": {},
   "source": [
    "Выведем лучший параметр регуляризации и значение метрики на обученном классификаторе для обучающей и тестовой выборок:"
   ]
  },
  {
   "cell_type": "code",
   "execution_count": 16,
   "metadata": {
    "collapsed": false
   },
   "outputs": [
    {
     "name": "stdout",
     "output_type": "stream",
     "text": [
      "{'C': 0.01}\n",
      "0.718391245389\n",
      "0.718548923108\n"
     ]
    }
   ],
   "source": [
    "y_train_score_logreg = clf_logreg_grid.decision_function(X_train)\n",
    "y_test_score_logreg = clf_logreg_grid.decision_function(X_test)\n",
    "\n",
    "print clf_logreg_grid.best_params_\n",
    "print roc_auc_score(y_train, y_train_score_logreg)\n",
    "print roc_auc_score(y_test, y_test_score_logreg)"
   ]
  },
  {
   "cell_type": "markdown",
   "metadata": {},
   "source": [
    "Полученное значение метрики с использованием логистической регрессии выше значения метрики, полученного с помощью градиентного бустинга. Это может быть вызвано тем, что данные линейно разделимы в заданном признаковом пространстве, или, например, при использовании бустинга использовалось недостаточное количество деревьев. Логистическая регрессия работает быстрее градиентного бустинга.\n",
    "\n",
    "Уберем из данных категориальные переменные:"
   ]
  },
  {
   "cell_type": "code",
   "execution_count": 17,
   "metadata": {
    "collapsed": true
   },
   "outputs": [],
   "source": [
    "cols = [col for col in X_scaled.columns if col not in ['r1_hero', 'd1_hero', \n",
    "                                                       'r2_hero', 'd2_hero', \n",
    "                                                       'r3_hero', 'd3_hero', \n",
    "                                                       'r4_hero', 'd4_hero', \n",
    "                                                       'r5_hero', 'd5_hero', \n",
    "                                                       'lobby_type']]\n",
    "X_log = X_scaled[cols]"
   ]
  },
  {
   "cell_type": "markdown",
   "metadata": {},
   "source": [
    "Повторим процедуру обучения на новых данных, выведем лучший параметр регуляризации и значение метрики на лучшем классификаторе для обучющей и тестовой выборок:"
   ]
  },
  {
   "cell_type": "code",
   "execution_count": 18,
   "metadata": {
    "collapsed": false
   },
   "outputs": [
    {
     "name": "stdout",
     "output_type": "stream",
     "text": [
      "{'C': 0.01}\n",
      "0.718132338083\n",
      "0.718505641938\n"
     ]
    }
   ],
   "source": [
    "X_train, X_test, y_train, y_test = train_test_split(X_log, \n",
    "                                                    y, \n",
    "                                                    test_size = 0.5, \n",
    "                                                    random_state = 1)\n",
    "clf_logreg_grid.fit(X_train, y_train)\n",
    "\n",
    "y_train_score_logreg = clf_logreg_grid.decision_function(X_train)\n",
    "y_test_score_logreg = clf_logreg_grid.decision_function(X_test)\n",
    "\n",
    "print clf_logreg_grid.best_params_\n",
    "print roc_auc_score(y_train, y_train_score_logreg)\n",
    "print roc_auc_score(y_test, y_test_score_logreg)"
   ]
  },
  {
   "cell_type": "markdown",
   "metadata": {},
   "source": [
    "Видно, что значение метрики практически не изменилось. Это означает, что данные переменные при использовании метода логистической регресии вероятно не дают дополнительной информации о победителе, что логично, т.к. номера героев не связаны количественно и порядково с характеристиками героев.\n",
    "\n",
    "Выведем количество различных идентификаторов героев в выборке, максимальный номер героя и график частоты использования героев:"
   ]
  },
  {
   "cell_type": "code",
   "execution_count": 19,
   "metadata": {
    "collapsed": false
   },
   "outputs": [
    {
     "name": "stdout",
     "output_type": "stream",
     "text": [
      "108\n",
      "112\n"
     ]
    },
    {
     "data": {
      "text/plain": [
       "<matplotlib.axes._subplots.AxesSubplot at 0xf017a70>"
      ]
     },
     "execution_count": 19,
     "metadata": {},
     "output_type": "execute_result"
    },
    {
     "data": {
      "image/png": "[encoded data removed]",
      "text/plain": [
       "<matplotlib.figure.Figure at 0x13fabb30>"
      ]
     },
     "metadata": {},
     "output_type": "display_data"
    }
   ],
   "source": [
    "cols = [col for col in X_scaled.columns if col in ['r1_hero', 'd1_hero', \n",
    "                                                       'r2_hero', 'd2_hero', \n",
    "                                                       'r3_hero', 'd3_hero', \n",
    "                                                       'r4_hero', 'd4_hero', \n",
    "                                                       'r5_hero', 'd5_hero']]\n",
    "\n",
    "Heroes = X[cols].stack()\n",
    "N = len(Heroes.unique())\n",
    "print N\n",
    "print Heroes.unique().max()\n",
    "Heroes.hist(bins = N)"
   ]
  },
  {
   "cell_type": "markdown",
   "metadata": {},
   "source": [
    "Создадим '*мешок слов*' для героев и добавим его к отмасштабированным данным:"
   ]
  },
  {
   "cell_type": "code",
   "execution_count": 20,
   "metadata": {
    "collapsed": false
   },
   "outputs": [],
   "source": [
    "N = Heroes.max()\n",
    "\n",
    "X_pick = numpy.zeros((X.shape[0], N))\n",
    "\n",
    "for i, match_id in enumerate(X.index):\n",
    "    for p in xrange(5):\n",
    "        X_pick[i, X.ix[match_id, 'r%d_hero' % (p+1)]-1] = 1\n",
    "        X_pick[i, X.ix[match_id, 'd%d_hero' % (p+1)]-1] = -1\n",
    "        \n",
    "X_pick_df = pandas.DataFrame(X_pick)\n",
    "X_pick_df.columns = range(1, 113)\n",
    "cols = [col for col in X_pick_df.columns if col in Heroes.unique()]\n",
    "X_pick_df = X_pick_df[cols]\n",
    "\n",
    "X_fin = pandas.concat([X_log, X_pick_df], axis = 1)"
   ]
  },
  {
   "cell_type": "markdown",
   "metadata": {},
   "source": [
    "Повторим обучение логистической регрессии на вновь полученном наборе данных и выведем значение метрики качества на лучшем обученном классификаторе:"
   ]
  },
  {
   "cell_type": "code",
   "execution_count": 21,
   "metadata": {
    "collapsed": false
   },
   "outputs": [
    {
     "name": "stdout",
     "output_type": "stream",
     "text": [
      "{'C': 0.10000000000000001}\n",
      "0.754204451475\n",
      "0.751909211569\n"
     ]
    }
   ],
   "source": [
    "X_train, X_test, y_train, y_test = train_test_split(X_fin, \n",
    "                                                    y,\n",
    "                                                    test_size = 0.5, \n",
    "                                                    random_state = 1)\n",
    "\n",
    "clf_logreg_grid.fit(X_train, y_train)\n",
    "\n",
    "y_train_score_logreg = clf_logreg_grid.decision_function(X_train)\n",
    "y_test_score_logreg = clf_logreg_grid.decision_function(X_test)\n",
    "\n",
    "print clf_logreg_grid.best_params_\n",
    "print roc_auc_score(y_train, y_train_score_logreg)\n",
    "print roc_auc_score(y_test, y_test_score_logreg)"
   ]
  },
  {
   "cell_type": "markdown",
   "metadata": {},
   "source": [
    "Видно, что полученное значение метрики выше, чем было без мешка слов. Это можно объяснить тем, что теперь каждый герой кодируется отдельной переменной и между идентификаторами героев нет количественных и порядковых взаимосвязей, что хорошо подходит для логистической регрессии.\n",
    "\n",
    "## Тестовые данные и kaggle\n",
    "\n",
    "Лучшей моделью из трех вышерасмотренных оказалась оказалась модель логистической регрессии с кодированием героев с помощью '*мешка слов*'. Эту модель и будем использовать на предоставленной тестовой выборке. Загрузим данные и подготовим их для используемой модели:"
   ]
  },
  {
   "cell_type": "code",
   "execution_count": 22,
   "metadata": {
    "collapsed": true
   },
   "outputs": [],
   "source": [
    "real_test_data = pandas.read_csv(u'features_test.csv', \n",
    "                           index_col='match_id')\n",
    "\n",
    "real_test_data = real_test_data.fillna(value = 0)\n",
    "cols = [col for col in real_test_data.columns if col != 'start_time']\n",
    "\n",
    "NN = len(real_test_data)\n",
    "X_pick_1 = numpy.zeros((NN, N))\n",
    "\n",
    "for i, match_id in enumerate(real_test_data.index):\n",
    "    for p in xrange(5):\n",
    "        X_pick_1[i, real_test_data.ix[match_id, 'r%d_hero' % (p+1)]-1] = 1\n",
    "        X_pick_1[i, real_test_data.ix[match_id, 'd%d_hero' % (p+1)]-1] = -1\n",
    "\n",
    "X_pick_df_1 = pandas.DataFrame(X_pick_1)\n",
    "X_pick_df_1.columns = range(1, 113)\n",
    "cols = [col for col in X_pick_df_1.columns if col in Heroes.unique()]\n",
    "\n",
    "X_pick_df_1 = X_pick_df_1[cols]\n",
    "X_pick_df_1.head()\n",
    "\n",
    "cols = [col for col in real_test_data.columns if col not in ['start_time',\n",
    "                                                       'duration', \n",
    "                                                       'tower_status_radiant', \n",
    "                                                       'tower_status_dire', \n",
    "                                                       'barracks_status_radiant',\n",
    "                                                       'barracks_status_dire']]\n",
    "\n",
    "X_scaled_1 = pandas.DataFrame(scaler.transform(real_test_data[cols]))\n",
    "X_scaled_1.columns = real_test_data[cols].columns\n",
    "cols = [col for col in real_test_data.columns if col not in ['start_time',\n",
    "                                                       'duration', \n",
    "                                                       'tower_status_radiant', \n",
    "                                                       'tower_status_dire', \n",
    "                                                       'barracks_status_radiant',\n",
    "                                                       'barracks_status_dire',\n",
    "                                                       'r1_hero', 'd1_hero', \n",
    "                                                       'r2_hero', 'd2_hero', \n",
    "                                                       'r3_hero', 'd3_hero', \n",
    "                                                       'r4_hero', 'd4_hero', \n",
    "                                                       'r5_hero', 'd5_hero',\n",
    "                                                            'lobby_type']]\n",
    "X_fin_1 = pandas.concat([X_scaled_1[cols], X_pick_df_1], axis = 1)"
   ]
  },
  {
   "cell_type": "markdown",
   "metadata": {},
   "source": [
    "Рассчитаем требуемые вероятности с помощью прежде обученной модели, проверим их на адекватность, сохраним результат в *.csv* файл и загрузим результат на *kaggle*:"
   ]
  },
  {
   "cell_type": "code",
   "execution_count": 24,
   "metadata": {
    "collapsed": false
   },
   "outputs": [
    {
     "name": "stdout",
     "output_type": "stream",
     "text": [
      "Min probability: 0.0116143918278\n",
      "Max probability: 0.996198568899\n"
     ]
    }
   ],
   "source": [
    "logistic = clf_logreg_grid.best_estimator_.predict_proba(X_fin_1)\n",
    "result = pandas.DataFrame(zip(real_test_data.index, logistic[:, 1]))\n",
    "result.columns = ['match_id', 'radiant_win']\n",
    "\n",
    "print 'Min probability:', str(min(result['radiant_win']))\n",
    "print 'Max probability:', str(max(result['radiant_win']))\n",
    "result.to_csv(u'result_k.csv',\n",
    "             index = False)"
   ]
  },
  {
   "cell_type": "markdown",
   "metadata": {},
   "source": [
    "Результат первой загруженной попытки на *kaggle* - **0.75113** (Dreamastiy)."
   ]
  }
 ],
 "metadata": {
  "kernelspec": {
   "display_name": "Python 2",
   "language": "python",
   "name": "python2"
  },
  "language_info": {
   "codemirror_mode": {
    "name": "ipython",
    "version": 2
   },
   "file_extension": ".py",
   "mimetype": "text/x-python",
   "name": "python",
   "nbconvert_exporter": "python",
   "pygments_lexer": "ipython2",
   "version": "2.7.10"
  }
 },
 "nbformat": 4,
 "nbformat_minor": 0
}
