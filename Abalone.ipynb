{
 "cells": [
  {
   "cell_type": "code",
   "execution_count": 10,
   "metadata": {
    "collapsed": true
   },
   "outputs": [],
   "source": [
    "import pandas\n",
    "import scipy\n",
    "import numpy\n",
    "from sklearn.ensemble import RandomForestRegressor\n",
    "from sklearn.metrics import r2_score\n",
    "from sklearn.cross_validation import KFold\n",
    "from sklearn.cross_validation import cross_val_score"
   ]
  },
  {
   "cell_type": "code",
   "execution_count": 3,
   "metadata": {
    "collapsed": false
   },
   "outputs": [
    {
     "name": "stdout",
     "output_type": "stream",
     "text": [
      "  Sex  Length  Diameter  Height  WholeWeight  ShuckedWeight  VisceraWeight  \\\n",
      "0   M   0.455     0.365   0.095       0.5140         0.2245         0.1010   \n",
      "1   M   0.350     0.265   0.090       0.2255         0.0995         0.0485   \n",
      "2   F   0.530     0.420   0.135       0.6770         0.2565         0.1415   \n",
      "3   M   0.440     0.365   0.125       0.5160         0.2155         0.1140   \n",
      "4   I   0.330     0.255   0.080       0.2050         0.0895         0.0395   \n",
      "\n",
      "   ShellWeight  Rings  \n",
      "0        0.150     15  \n",
      "1        0.070      7  \n",
      "2        0.210      9  \n",
      "3        0.155     10  \n",
      "4        0.055      7  \n"
     ]
    }
   ],
   "source": [
    "data = pandas.read_csv(u'C:\\\\Users\\\\Dmi\\\\Desktop\\MatLab\\\\Coursera\\\\Введение в машинное обучение\\\\Неделя 5\\\\abalone.csv',\n",
    "                      header = 0)\n",
    "print data.head()"
   ]
  },
  {
   "cell_type": "code",
   "execution_count": 4,
   "metadata": {
    "collapsed": true
   },
   "outputs": [],
   "source": [
    "data['Sex'] = data['Sex'].map(lambda x: 1 if x == 'M' else (-1 if x == 'F' else 0))\n",
    "X = data.ix[:, :-1]\n",
    "y = data.ix[:, -1]"
   ]
  },
  {
   "cell_type": "code",
   "execution_count": 7,
   "metadata": {
    "collapsed": false
   },
   "outputs": [
    {
     "name": "stdout",
     "output_type": "stream",
     "text": [
      "      Sex  Length  Diameter  Height  WholeWeight  ShuckedWeight  \\\n",
      "0       1   0.455     0.365   0.095       0.5140         0.2245   \n",
      "1       1   0.350     0.265   0.090       0.2255         0.0995   \n",
      "2      -1   0.530     0.420   0.135       0.6770         0.2565   \n",
      "3       1   0.440     0.365   0.125       0.5160         0.2155   \n",
      "4       0   0.330     0.255   0.080       0.2050         0.0895   \n",
      "5       0   0.425     0.300   0.095       0.3515         0.1410   \n",
      "6      -1   0.530     0.415   0.150       0.7775         0.2370   \n",
      "7      -1   0.545     0.425   0.125       0.7680         0.2940   \n",
      "8       1   0.475     0.370   0.125       0.5095         0.2165   \n",
      "9      -1   0.550     0.440   0.150       0.8945         0.3145   \n",
      "10     -1   0.525     0.380   0.140       0.6065         0.1940   \n",
      "11      1   0.430     0.350   0.110       0.4060         0.1675   \n",
      "12      1   0.490     0.380   0.135       0.5415         0.2175   \n",
      "13     -1   0.535     0.405   0.145       0.6845         0.2725   \n",
      "14     -1   0.470     0.355   0.100       0.4755         0.1675   \n",
      "15      1   0.500     0.400   0.130       0.6645         0.2580   \n",
      "16      0   0.355     0.280   0.085       0.2905         0.0950   \n",
      "17     -1   0.440     0.340   0.100       0.4510         0.1880   \n",
      "18      1   0.365     0.295   0.080       0.2555         0.0970   \n",
      "19      1   0.450     0.320   0.100       0.3810         0.1705   \n",
      "20      1   0.355     0.280   0.095       0.2455         0.0955   \n",
      "21      0   0.380     0.275   0.100       0.2255         0.0800   \n",
      "22     -1   0.565     0.440   0.155       0.9395         0.4275   \n",
      "23     -1   0.550     0.415   0.135       0.7635         0.3180   \n",
      "24     -1   0.615     0.480   0.165       1.1615         0.5130   \n",
      "25     -1   0.560     0.440   0.140       0.9285         0.3825   \n",
      "26     -1   0.580     0.450   0.185       0.9955         0.3945   \n",
      "27      1   0.590     0.445   0.140       0.9310         0.3560   \n",
      "28      1   0.605     0.475   0.180       0.9365         0.3940   \n",
      "29      1   0.575     0.425   0.140       0.8635         0.3930   \n",
      "...   ...     ...       ...     ...          ...            ...   \n",
      "4147    1   0.695     0.550   0.195       1.6645         0.7270   \n",
      "4148    1   0.770     0.605   0.175       2.0505         0.8005   \n",
      "4149    0   0.280     0.215   0.070       0.1240         0.0630   \n",
      "4150    0   0.330     0.230   0.080       0.1400         0.0565   \n",
      "4151    0   0.350     0.250   0.075       0.1695         0.0835   \n",
      "4152    0   0.370     0.280   0.090       0.2180         0.0995   \n",
      "4153    0   0.430     0.315   0.115       0.3840         0.1885   \n",
      "4154    0   0.435     0.330   0.095       0.3930         0.2190   \n",
      "4155    0   0.440     0.350   0.110       0.3805         0.1575   \n",
      "4156    1   0.475     0.370   0.110       0.4895         0.2185   \n",
      "4157    1   0.475     0.360   0.140       0.5135         0.2410   \n",
      "4158    0   0.480     0.355   0.110       0.4495         0.2010   \n",
      "4159   -1   0.560     0.440   0.135       0.8025         0.3500   \n",
      "4160   -1   0.585     0.475   0.165       1.0530         0.4580   \n",
      "4161   -1   0.585     0.455   0.170       0.9945         0.4255   \n",
      "4162    1   0.385     0.255   0.100       0.3175         0.1370   \n",
      "4163    0   0.390     0.310   0.085       0.3440         0.1810   \n",
      "4164    0   0.390     0.290   0.100       0.2845         0.1255   \n",
      "4165    0   0.405     0.300   0.085       0.3035         0.1500   \n",
      "4166    0   0.475     0.365   0.115       0.4990         0.2320   \n",
      "4167    1   0.500     0.380   0.125       0.5770         0.2690   \n",
      "4168   -1   0.515     0.400   0.125       0.6150         0.2865   \n",
      "4169    1   0.520     0.385   0.165       0.7910         0.3750   \n",
      "4170    1   0.550     0.430   0.130       0.8395         0.3155   \n",
      "4171    1   0.560     0.430   0.155       0.8675         0.4000   \n",
      "4172   -1   0.565     0.450   0.165       0.8870         0.3700   \n",
      "4173    1   0.590     0.440   0.135       0.9660         0.4390   \n",
      "4174    1   0.600     0.475   0.205       1.1760         0.5255   \n",
      "4175   -1   0.625     0.485   0.150       1.0945         0.5310   \n",
      "4176    1   0.710     0.555   0.195       1.9485         0.9455   \n",
      "\n",
      "      VisceraWeight  ShellWeight  \n",
      "0            0.1010       0.1500  \n",
      "1            0.0485       0.0700  \n",
      "2            0.1415       0.2100  \n",
      "3            0.1140       0.1550  \n",
      "4            0.0395       0.0550  \n",
      "5            0.0775       0.1200  \n",
      "6            0.1415       0.3300  \n",
      "7            0.1495       0.2600  \n",
      "8            0.1125       0.1650  \n",
      "9            0.1510       0.3200  \n",
      "10           0.1475       0.2100  \n",
      "11           0.0810       0.1350  \n",
      "12           0.0950       0.1900  \n",
      "13           0.1710       0.2050  \n",
      "14           0.0805       0.1850  \n",
      "15           0.1330       0.2400  \n",
      "16           0.0395       0.1150  \n",
      "17           0.0870       0.1300  \n",
      "18           0.0430       0.1000  \n",
      "19           0.0750       0.1150  \n",
      "20           0.0620       0.0750  \n",
      "21           0.0490       0.0850  \n",
      "22           0.2140       0.2700  \n",
      "23           0.2100       0.2000  \n",
      "24           0.3010       0.3050  \n",
      "25           0.1880       0.3000  \n",
      "26           0.2720       0.2850  \n",
      "27           0.2340       0.2800  \n",
      "28           0.2190       0.2950  \n",
      "29           0.2270       0.2000  \n",
      "...             ...          ...  \n",
      "4147         0.3600       0.4450  \n",
      "4148         0.5260       0.3550  \n",
      "4149         0.0215       0.0300  \n",
      "4150         0.0365       0.0460  \n",
      "4151         0.0355       0.0410  \n",
      "4152         0.0545       0.0615  \n",
      "4153         0.0715       0.1100  \n",
      "4154         0.0750       0.0885  \n",
      "4155         0.0895       0.1150  \n",
      "4156         0.1070       0.1460  \n",
      "4157         0.1045       0.1550  \n",
      "4158         0.0890       0.1400  \n",
      "4159         0.1615       0.2590  \n",
      "4160         0.2170       0.3000  \n",
      "4161         0.2630       0.2845  \n",
      "4162         0.0680       0.0920  \n",
      "4163         0.0695       0.0790  \n",
      "4164         0.0635       0.0810  \n",
      "4165         0.0505       0.0880  \n",
      "4166         0.0885       0.1560  \n",
      "4167         0.1265       0.1535  \n",
      "4168         0.1230       0.1765  \n",
      "4169         0.1800       0.1815  \n",
      "4170         0.1955       0.2405  \n",
      "4171         0.1720       0.2290  \n",
      "4172         0.2390       0.2490  \n",
      "4173         0.2145       0.2605  \n",
      "4174         0.2875       0.3080  \n",
      "4175         0.2610       0.2960  \n",
      "4176         0.3765       0.4950  \n",
      "\n",
      "[4177 rows x 8 columns] 0       15\n",
      "1        7\n",
      "2        9\n",
      "3       10\n",
      "4        7\n",
      "5        8\n",
      "6       20\n",
      "7       16\n",
      "8        9\n",
      "9       19\n",
      "10      14\n",
      "11      10\n",
      "12      11\n",
      "13      10\n",
      "14      10\n",
      "15      12\n",
      "16       7\n",
      "17      10\n",
      "18       7\n",
      "19       9\n",
      "20      11\n",
      "21      10\n",
      "22      12\n",
      "23       9\n",
      "24      10\n",
      "25      11\n",
      "26      11\n",
      "27      12\n",
      "28      15\n",
      "29      11\n",
      "        ..\n",
      "4147    11\n",
      "4148    11\n",
      "4149     6\n",
      "4150     7\n",
      "4151     6\n",
      "4152     7\n",
      "4153     8\n",
      "4154     6\n",
      "4155     6\n",
      "4156     8\n",
      "4157     8\n",
      "4158     8\n",
      "4159     9\n",
      "4160    11\n",
      "4161    11\n",
      "4162     8\n",
      "4163     7\n",
      "4164     7\n",
      "4165     7\n",
      "4166    10\n",
      "4167     9\n",
      "4168     8\n",
      "4169    10\n",
      "4170    10\n",
      "4171     8\n",
      "4172    11\n",
      "4173    10\n",
      "4174     9\n",
      "4175    10\n",
      "4176    12\n",
      "Name: Rings, dtype: int64\n"
     ]
    }
   ],
   "source": [
    "print X, y"
   ]
  },
  {
   "cell_type": "code",
   "execution_count": 24,
   "metadata": {
    "collapsed": true
   },
   "outputs": [],
   "source": [
    "kf = KFold(n = len(y),\n",
    "          random_state = 1,\n",
    "          n_folds = 5,\n",
    "          shuffle = True)"
   ]
  },
  {
   "cell_type": "code",
   "execution_count": 28,
   "metadata": {
    "collapsed": false
   },
   "outputs": [
    {
     "name": "stdout",
     "output_type": "stream",
     "text": [
      "0.534188574016\n"
     ]
    }
   ],
   "source": [
    "val = cross_val_score(estimator = clf, \n",
    "                      scoring = 'r2', \n",
    "                      X = X, \n",
    "                      y = y, \n",
    "                      cv = kf)\n",
    "print val.mean()"
   ]
  },
  {
   "cell_type": "code",
   "execution_count": 38,
   "metadata": {
    "collapsed": false
   },
   "outputs": [],
   "source": [
    "temp_x = []\n",
    "temp_cv = []\n",
    "for x in range(1, 51):\n",
    "    clf = RandomForestRegressor(n_estimators = x, \n",
    "                                random_state = 1)\n",
    "    val = cross_val_score(estimator = clf, \n",
    "                      scoring = 'r2', \n",
    "                      X = X, \n",
    "                      y = y, \n",
    "                      cv = kf)\n",
    "    temp_x.append(x)\n",
    "    temp_cv.append(round(val.mean(), 3))"
   ]
  },
  {
   "cell_type": "code",
   "execution_count": 40,
   "metadata": {
    "collapsed": false
   },
   "outputs": [
    {
     "name": "stdout",
     "output_type": "stream",
     "text": [
      "[(1, 0.11), (2, 0.341), (3, 0.406), (4, 0.445), (5, 0.465), (6, 0.471), (7, 0.477), (8, 0.483), (9, 0.489), (10, 0.495), (11, 0.494), (12, 0.499), (13, 0.503), (14, 0.507), (15, 0.509), (16, 0.511), (17, 0.515), (18, 0.517), (19, 0.52), (20, 0.519), (21, 0.521), (22, 0.521), (23, 0.522), (24, 0.523), (25, 0.523), (26, 0.524), (27, 0.525), (28, 0.526), (29, 0.527), (30, 0.527), (31, 0.528), (32, 0.529), (33, 0.53), (34, 0.53), (35, 0.53), (36, 0.53), (37, 0.529), (38, 0.529), (39, 0.53), (40, 0.529), (41, 0.53), (42, 0.53), (43, 0.53), (44, 0.53), (45, 0.529), (46, 0.529), (47, 0.529), (48, 0.53), (49, 0.531), (50, 0.531)]\n"
     ]
    }
   ],
   "source": [
    "print zip(temp_x, temp_cv)"
   ]
  },
  {
   "cell_type": "code",
   "execution_count": 41,
   "metadata": {
    "collapsed": false
   },
   "outputs": [
    {
     "data": {
      "image/png": "[encoded data removed]",
      "text/plain": [
       "<matplotlib.figure.Figure at 0xed80330>"
      ]
     },
     "metadata": {},
     "output_type": "display_data"
    }
   ],
   "source": [
    "import matplotlib.pyplot as plt\n",
    "%matplotlib inline\n",
    "plt.plot(temp_cv)\n",
    "plt.show()"
   ]
  }
 ],
 "metadata": {
  "kernelspec": {
   "display_name": "Python 2",
   "language": "python",
   "name": "python2"
  },
  "language_info": {
   "codemirror_mode": {
    "name": "ipython",
    "version": 2
   },
   "file_extension": ".py",
   "mimetype": "text/x-python",
   "name": "python",
   "nbconvert_exporter": "python",
   "pygments_lexer": "ipython2",
   "version": "2.7.10"
  }
 },
 "nbformat": 4,
 "nbformat_minor": 0
}
