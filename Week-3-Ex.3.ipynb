{
 "metadata": {
  "name": "",
  "signature": "sha256:3c00491339c03535252fe513dc4ede7d38e01fb890bf73fb3975580b6a9931f9"
 },
 "nbformat": 3,
 "nbformat_minor": 0,
 "worksheets": [
  {
   "cells": [
    {
     "cell_type": "code",
     "collapsed": false,
     "input": [
      "import numpy\n",
      "import pandas\n",
      "import math\n",
      "from sklearn.metrics import roc_auc_score"
     ],
     "language": "python",
     "metadata": {},
     "outputs": [],
     "prompt_number": 9
    },
    {
     "cell_type": "code",
     "collapsed": false,
     "input": [
      "df = pandas.read_csv(u'C:\\\\Users\\\\Dmi\\\\Desktop\\\\MatLab\\\\Coursera\\\\\u0412\u0432\u0435\u0434\u0435\u043d\u0438\u0435 \u0432 \u043c\u0430\u0448\u0438\u043d\u043d\u043e\u0435 \u043e\u0431\u0443\u0447\u0435\u043d\u0438\u0435\\\\\u041d\u0435\u0434\u0435\u043b\u044f 3\\\\\u0427\u0430\u0441\u0442\u044c 2\\\\data-logistic.csv',\n",
      "                     header = None)"
     ],
     "language": "python",
     "metadata": {},
     "outputs": [],
     "prompt_number": 3
    },
    {
     "cell_type": "code",
     "collapsed": false,
     "input": [
      "y = df[0]\n",
      "X = df.ix[:, 1:]\n",
      "X.columns = [0, 1]\n",
      "print X.head()\n",
      "print y"
     ],
     "language": "python",
     "metadata": {},
     "outputs": [
      {
       "output_type": "stream",
       "stream": "stdout",
       "text": [
        "          0         1\n",
        "0 -0.663827 -0.138526\n",
        "1  1.994596  2.468025\n",
        "2 -1.247395  0.749425\n",
        "3  2.309374  1.899836\n",
        "4  0.849143  2.407750\n",
        "0     -1\n",
        "1      1\n",
        "2     -1\n",
        "3      1\n",
        "4      1\n",
        "5      1\n",
        "6      1\n",
        "7     -1\n",
        "8     -1\n",
        "9      1\n",
        "10    -1\n",
        "11    -1\n",
        "12    -1\n",
        "13    -1\n",
        "14     1\n",
        "15    -1\n",
        "16    -1\n",
        "17     1\n",
        "18     1\n",
        "19     1\n",
        "20    -1\n",
        "21     1\n",
        "22    -1\n",
        "23    -1\n",
        "24    -1\n",
        "25    -1\n",
        "26     1\n",
        "27     1\n",
        "28    -1\n",
        "29    -1\n",
        "      ..\n",
        "175    1\n",
        "176   -1\n",
        "177    1\n",
        "178   -1\n",
        "179    1\n",
        "180    1\n",
        "181   -1\n",
        "182    1\n",
        "183   -1\n",
        "184    1\n",
        "185   -1\n",
        "186   -1\n",
        "187   -1\n",
        "188   -1\n",
        "189   -1\n",
        "190    1\n",
        "191    1\n",
        "192   -1\n",
        "193   -1\n",
        "194    1\n",
        "195    1\n",
        "196   -1\n",
        "197    1\n",
        "198    1\n",
        "199   -1\n",
        "200    1\n",
        "201    1\n",
        "202   -1\n",
        "203    1\n",
        "204   -1\n",
        "Name: 0, dtype: int64\n"
       ]
      }
     ],
     "prompt_number": 55
    },
    {
     "cell_type": "code",
     "collapsed": false,
     "input": [
      "# \u0417\u0430\u0434\u0430\u0435\u043c \u043f\u0430\u0440\u0430\u043c\u0435\u0442\u0440\u044b \n",
      "k = 0.1 # \u0448\u0430\u0433 \u0433\u0440\u0430\u0434\u0438\u0435\u043d\u0442\u043d\u043e\u0433\u043e \u0441\u043f\u0443\u0441\u043a\u0430\n",
      "iv = [0, 0] # \u043d\u0430\u0447\u0430\u043b\u044c\u043d\u044b\u0439 \u0432\u0435\u043a\u0442\u043e\u0440\n",
      "C = 10 # \u043f\u0430\u0440\u0430\u043c\u0435\u0442\u0440 \u0440\u0433\u0435\u0443\u043b\u044f\u0440\u0438\u0437\u0430\u0446\u0438\u0438\n",
      "N = 10000 # \u043c\u0430\u043a\u0441\u0438\u043c\u0430\u043b\u044c\u043d\u043e\u0435 \u043a\u043e\u043b\u0438\u0447\u0435\u0441\u0442\u0432\u043e \u0438\u0442\u0435\u0440\u0430\u0446\u0438\u0439\n",
      "e = 10**-5 # \u0442\u043e\u0447\u043d\u043e\u0441\u0442\u044c \u0441\u0445\u043e\u0434\u0438\u043c\u043e\u0441\u0442\u0438\n",
      "print y.size\n",
      "numpy.dot(y, X[1])"
     ],
     "language": "python",
     "metadata": {},
     "outputs": [
      {
       "output_type": "stream",
       "stream": "stdout",
       "text": [
        "205\n"
       ]
      },
      {
       "metadata": {},
       "output_type": "pyout",
       "prompt_number": 31,
       "text": [
        "133.08588224139362"
       ]
      }
     ],
     "prompt_number": 31
    },
    {
     "cell_type": "code",
     "collapsed": false,
     "input": [
      "def logisticGradientDescent(y, X, wi = [0, 0], k = 0.1, C = 0, N = 10000, e = 10**-5):\n",
      "    l = y.size\n",
      "    # print len(X)\n",
      "    # print l\n",
      "    wi_final = []\n",
      "    for iStep in range(N):\n",
      "        wi_temp = []\n",
      "        for i, w in enumerate(wi):\n",
      "            # print i\n",
      "            scalar_sum = 0\n",
      "            for x in range(l):\n",
      "                w_sum = 0\n",
      "                for ii, ww in enumerate(wi):\n",
      "                    # print x, ii, ww\n",
      "                    w_sum += ww * X.ix[x, ii]\n",
      "                scalar_sum += y[x] * X.ix[x, i] * (1 - 1 / (1 + math.exp(-1 * y[x] * w_sum ) ) )\n",
      "\n",
      "            w = w + k * 1 / l * scalar_sum - k * C * w\n",
      "            wi_temp.append(w)\n",
      "            # print wi_temp\n",
      "        wi_dist = 0\n",
      "        for ii, w in enumerate(wi_temp):\n",
      "            wi_dist += (w - wi[ii])**2\n",
      "        if math.sqrt(wi_dist) < e:\n",
      "            return wi_temp\n",
      "            break\n",
      "        else:\n",
      "            wi = wi_temp\n",
      "        # print wi\n",
      "    return wi\n",
      "        "
     ],
     "language": "python",
     "metadata": {},
     "outputs": [],
     "prompt_number": 69
    },
    {
     "cell_type": "code",
     "collapsed": false,
     "input": [
      "try1 = logisticGradientDescent(y, X)\n",
      "print try1\n",
      "try2 = logisticGradientDescent(y, X, C = 10)\n",
      "print try2"
     ],
     "language": "python",
     "metadata": {},
     "outputs": [
      {
       "output_type": "stream",
       "stream": "stdout",
       "text": [
        "[0.28781162047177639, 0.09198330215925439]\n",
        "[0.028558754546234223, 0.024780137249735559]"
       ]
      },
      {
       "output_type": "stream",
       "stream": "stdout",
       "text": [
        "\n"
       ]
      }
     ],
     "prompt_number": 70
    },
    {
     "cell_type": "code",
     "collapsed": false,
     "input": [
      "a = []\n",
      "l = y.size\n",
      "for x in range(l):\n",
      "    a.append(1 / (1 + math.exp(-1 * ( try1[0] * X.ix[x, 0] + try1[1] * X.ix[x, 1] ))))\n",
      "# print a\n",
      "print round(roc_auc_score(y, a), 3)"
     ],
     "language": "python",
     "metadata": {},
     "outputs": [
      {
       "output_type": "stream",
       "stream": "stdout",
       "text": [
        "0.927\n"
       ]
      }
     ],
     "prompt_number": 72
    },
    {
     "cell_type": "code",
     "collapsed": false,
     "input": [
      "b = []\n",
      "for x in range(l):\n",
      "    b.append(1 / (1 + math.exp(-1 * ( try2[0] * X.ix[x, 0] + try2[1] * X.ix[x, 1] ))))\n",
      "# print b\n",
      "print round(roc_auc_score(y, b), 3)"
     ],
     "language": "python",
     "metadata": {},
     "outputs": [
      {
       "output_type": "stream",
       "stream": "stdout",
       "text": [
        "0.936\n"
       ]
      }
     ],
     "prompt_number": 73
    },
    {
     "cell_type": "code",
     "collapsed": false,
     "input": [
      "help(roc_auc_score)"
     ],
     "language": "python",
     "metadata": {},
     "outputs": [
      {
       "output_type": "stream",
       "stream": "stdout",
       "text": [
        "Help on function roc_auc_score in module sklearn.metrics.ranking:\n",
        "\n",
        "roc_auc_score(y_true, y_score, average='macro', sample_weight=None)\n",
        "    Compute Area Under the Curve (AUC) from prediction scores\n",
        "    \n",
        "    Note: this implementation is restricted to the binary classification task\n",
        "    or multilabel classification task in label indicator format.\n",
        "    \n",
        "    Read more in the :ref:`User Guide <roc_metrics>`.\n",
        "    \n",
        "    Parameters\n",
        "    ----------\n",
        "    y_true : array, shape = [n_samples] or [n_samples, n_classes]\n",
        "        True binary labels in binary label indicators.\n",
        "    \n",
        "    y_score : array, shape = [n_samples] or [n_samples, n_classes]\n",
        "        Target scores, can either be probability estimates of the positive\n",
        "        class, confidence values, or binary decisions.\n",
        "    \n",
        "    average : string, [None, 'micro', 'macro' (default), 'samples', 'weighted']\n",
        "        If ``None``, the scores for each class are returned. Otherwise,\n",
        "        this determines the type of averaging performed on the data:\n",
        "    \n",
        "        ``'micro'``:\n",
        "            Calculate metrics globally by considering each element of the label\n",
        "            indicator matrix as a label.\n",
        "        ``'macro'``:\n",
        "            Calculate metrics for each label, and find their unweighted\n",
        "            mean.  This does not take label imbalance into account.\n",
        "        ``'weighted'``:\n",
        "            Calculate metrics for each label, and find their average, weighted\n",
        "            by support (the number of true instances for each label).\n",
        "        ``'samples'``:\n",
        "            Calculate metrics for each instance, and find their average.\n",
        "    \n",
        "    sample_weight : array-like of shape = [n_samples], optional\n",
        "        Sample weights.\n",
        "    \n",
        "    Returns\n",
        "    -------\n",
        "    auc : float\n",
        "    \n",
        "    References\n",
        "    ----------\n",
        "    .. [1] `Wikipedia entry for the Receiver operating characteristic\n",
        "            <http://en.wikipedia.org/wiki/Receiver_operating_characteristic>`_\n",
        "    \n",
        "    See also\n",
        "    --------\n",
        "    average_precision_score : Area under the precision-recall curve\n",
        "    \n",
        "    roc_curve : Compute Receiver operating characteristic (ROC)\n",
        "    \n",
        "    Examples\n",
        "    --------\n",
        "    >>> import numpy as np\n",
        "    >>> from sklearn.metrics import roc_auc_score\n",
        "    >>> y_true = np.array([0, 0, 1, 1])\n",
        "    >>> y_scores = np.array([0.1, 0.4, 0.35, 0.8])\n",
        "    >>> roc_auc_score(y_true, y_scores)\n",
        "    0.75\n",
        "\n"
       ]
      }
     ],
     "prompt_number": 48
    }
   ],
   "metadata": {}
  }
 ]
}