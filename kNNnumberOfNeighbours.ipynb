{
 "metadata": {
  "name": "",
  "signature": "sha256:b2d332f99ef50b44a40894d84420d25627aaf75617a4541eb875ff625d77b843"
 },
 "nbformat": 3,
 "nbformat_minor": 0,
 "worksheets": [
  {
   "cells": [
    {
     "cell_type": "code",
     "collapsed": false,
     "input": [
      "import pandas\n",
      "import numpy\n",
      "import sklearn.cross_validation\n",
      "import sklearn.neighbors"
     ],
     "language": "python",
     "metadata": {},
     "outputs": [],
     "prompt_number": 3
    },
    {
     "cell_type": "code",
     "collapsed": false,
     "input": [
      "data = pandas.read_csv(u'C:\\\\Users\\\\Dmi\\\\Desktop\\\\MatLab\\\\Coursera\\\\\u0412\u0432\u0435\u0434\u0435\u043d\u0438\u0435 \u0432 \u043c\u0430\u0448\u0438\u043d\u043d\u043e\u0435 \u043e\u0431\u0443\u0447\u0435\u043d\u0438\u0435\\\\\u041d\u0435\u0434\u0435\u043b\u044f 2\\\\wine.data',\n",
      "                       header = None)"
     ],
     "language": "python",
     "metadata": {},
     "outputs": [],
     "prompt_number": 6
    },
    {
     "cell_type": "code",
     "collapsed": false,
     "input": [
      "print data.head()\n",
      "print data.tail()"
     ],
     "language": "python",
     "metadata": {},
     "outputs": [
      {
       "output_type": "stream",
       "stream": "stdout",
       "text": [
        "   0      1     2     3     4    5     6     7     8     9     10    11    12  \\\n",
        "0   1  14.23  1.71  2.43  15.6  127  2.80  3.06  0.28  2.29  5.64  1.04  3.92   \n",
        "1   1  13.20  1.78  2.14  11.2  100  2.65  2.76  0.26  1.28  4.38  1.05  3.40   \n",
        "2   1  13.16  2.36  2.67  18.6  101  2.80  3.24  0.30  2.81  5.68  1.03  3.17   \n",
        "3   1  14.37  1.95  2.50  16.8  113  3.85  3.49  0.24  2.18  7.80  0.86  3.45   \n",
        "4   1  13.24  2.59  2.87  21.0  118  2.80  2.69  0.39  1.82  4.32  1.04  2.93   \n",
        "\n",
        "     13  \n",
        "0  1065  \n",
        "1  1050  \n",
        "2  1185  \n",
        "3  1480  \n",
        "4   735  \n",
        "     0      1     2     3     4    5     6     7     8     9     10    11  \\\n",
        "173   3  13.71  5.65  2.45  20.5   95  1.68  0.61  0.52  1.06   7.7  0.64   \n",
        "174   3  13.40  3.91  2.48  23.0  102  1.80  0.75  0.43  1.41   7.3  0.70   \n",
        "175   3  13.27  4.28  2.26  20.0  120  1.59  0.69  0.43  1.35  10.2  0.59   \n",
        "176   3  13.17  2.59  2.37  20.0  120  1.65  0.68  0.53  1.46   9.3  0.60   \n",
        "177   3  14.13  4.10  2.74  24.5   96  2.05  0.76  0.56  1.35   9.2  0.61   \n",
        "\n",
        "       12   13  \n",
        "173  1.74  740  \n",
        "174  1.56  750  \n",
        "175  1.56  835  \n",
        "176  1.62  840  \n",
        "177  1.60  560  \n"
       ]
      }
     ],
     "prompt_number": 47
    },
    {
     "cell_type": "code",
     "collapsed": false,
     "input": [
      "y = data[0]\n",
      "X = data.ix[:,1:]\n",
      "# print y\n",
      "# print X"
     ],
     "language": "python",
     "metadata": {},
     "outputs": [],
     "prompt_number": 8
    },
    {
     "cell_type": "code",
     "collapsed": false,
     "input": [
      "kf = sklearn.cross_validation.KFold(n = len(y),\n",
      "                                    n_folds = 5, \n",
      "                                    shuffle = True, \n",
      "                                    random_state = 42)"
     ],
     "language": "python",
     "metadata": {},
     "outputs": [],
     "prompt_number": 12
    },
    {
     "cell_type": "code",
     "collapsed": false,
     "input": [
      "kNN = sklearn.neighbors.KNeighborsClassifier()"
     ],
     "language": "python",
     "metadata": {},
     "outputs": [],
     "prompt_number": 15
    },
    {
     "cell_type": "code",
     "collapsed": false,
     "input": [
      "val = sklearn.cross_validation.cross_val_score(estimator = kNN,\n",
      "                                               X = X,\n",
      "                                               y = y,\n",
      "                                               cv = kf)"
     ],
     "language": "python",
     "metadata": {},
     "outputs": [],
     "prompt_number": 16
    },
    {
     "cell_type": "code",
     "collapsed": false,
     "input": [
      "print val.mean()"
     ],
     "language": "python",
     "metadata": {},
     "outputs": [
      {
       "output_type": "stream",
       "stream": "stdout",
       "text": [
        "0.674603174603\n"
       ]
      }
     ],
     "prompt_number": 19
    },
    {
     "cell_type": "code",
     "collapsed": false,
     "input": [
      "temp = []\n",
      "for l in range(1, 51):\n",
      "    # print l\n",
      "    kNN = sklearn.neighbors.KNeighborsClassifier(n_neighbors = l)\n",
      "    val = sklearn.cross_validation.cross_val_score(estimator = kNN,\n",
      "                                                   X = X,\n",
      "                                                   y = y,\n",
      "                                                   cv = kf)\n",
      "    temp.append(round(val.mean(), 6))\n",
      "print round(max(temp), 2)\n",
      "#for x in temp:\n",
      "#    print x == max(temp)\n",
      "\n"
     ],
     "language": "python",
     "metadata": {},
     "outputs": [
      {
       "output_type": "stream",
       "stream": "stdout",
       "text": [
        "0.73\n"
       ]
      }
     ],
     "prompt_number": 46
    },
    {
     "cell_type": "code",
     "collapsed": false,
     "input": [
      "import matplotlib.pyplot as plt\n",
      "%matplotlib inline\n",
      "plt.plot(temp)\n",
      "plt.show()"
     ],
     "language": "python",
     "metadata": {},
     "outputs": [
      {
       "metadata": {},
       "output_type": "display_data",
       "png": "[encoded data removed]",
       "text": [
        "<matplotlib.figure.Figure at 0x106cc570>"
       ]
      }
     ],
     "prompt_number": 40
    },
    {
     "cell_type": "code",
     "collapsed": false,
     "input": [
      "temp = []\n",
      "X1 = sklearn.preprocessing.scale(X)\n",
      "for l in range(1, 51):\n",
      "    # print l\n",
      "    kNN = sklearn.neighbors.KNeighborsClassifier(n_neighbors = l)\n",
      "    val = sklearn.cross_validation.cross_val_score(estimator = kNN,\n",
      "                                                   X = X1,\n",
      "                                                   y = y,\n",
      "                                                   cv = kf)\n",
      "    temp.append(round(val.mean(), 6))\n",
      "print round(max(temp), 2)\n",
      "for x in temp:\n",
      "    print x == max(temp)\n",
      "plt.plot(temp)\n",
      "plt.show()"
     ],
     "language": "python",
     "metadata": {},
     "outputs": [
      {
       "output_type": "stream",
       "stream": "stdout",
       "text": [
        "0.98\n",
        "False\n",
        "False\n",
        "False\n",
        "False\n",
        "False\n",
        "False\n",
        "False\n",
        "False\n",
        "False\n",
        "False\n",
        "False\n",
        "False\n",
        "False\n",
        "False\n",
        "False\n",
        "False\n",
        "False\n",
        "False\n",
        "False\n",
        "False\n",
        "False\n",
        "False\n",
        "False\n",
        "False\n",
        "False\n",
        "False\n",
        "False\n",
        "False\n",
        "True\n",
        "False\n",
        "False\n",
        "False\n",
        "False\n",
        "False\n",
        "False\n",
        "False\n",
        "False\n",
        "False\n",
        "False\n",
        "False\n",
        "False\n",
        "False\n",
        "False\n",
        "False\n",
        "False\n",
        "False\n",
        "False\n",
        "False\n",
        "False\n",
        "False\n"
       ]
      },
      {
       "metadata": {},
       "output_type": "display_data",
       "png": "[encoded data removed]",
       "text": [
        "<matplotlib.figure.Figure at 0x106cc2b0>"
       ]
      }
     ],
     "prompt_number": 45
    }
   ],
   "metadata": {}
  }
 ]
}