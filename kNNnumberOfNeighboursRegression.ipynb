{
 "metadata": {
  "name": "",
  "signature": "sha256:a15325f9cdf00938e8352b26d6e226eedbb5873673ad4d2dcd9315dcce8b5714"
 },
 "nbformat": 3,
 "nbformat_minor": 0,
 "worksheets": [
  {
   "cells": [
    {
     "cell_type": "code",
     "collapsed": false,
     "input": [
      "import pandas\n",
      "import numpy\n",
      "import sklearn.cross_validation\n",
      "import sklearn.neighbors\n",
      "import sklearn.datasets"
     ],
     "language": "python",
     "metadata": {},
     "outputs": [],
     "prompt_number": 3
    },
    {
     "cell_type": "code",
     "collapsed": false,
     "input": [
      "data = sklearn.datasets.load_boston()"
     ],
     "language": "python",
     "metadata": {},
     "outputs": [],
     "prompt_number": 4
    },
    {
     "cell_type": "code",
     "collapsed": false,
     "input": [
      "print data['data']\n",
      "print data['target']"
     ],
     "language": "python",
     "metadata": {},
     "outputs": [
      {
       "output_type": "stream",
       "stream": "stdout",
       "text": [
        "[[  6.32000000e-03   1.80000000e+01   2.31000000e+00 ...,   1.53000000e+01\n",
        "    3.96900000e+02   4.98000000e+00]\n",
        " [  2.73100000e-02   0.00000000e+00   7.07000000e+00 ...,   1.78000000e+01\n",
        "    3.96900000e+02   9.14000000e+00]\n",
        " [  2.72900000e-02   0.00000000e+00   7.07000000e+00 ...,   1.78000000e+01\n",
        "    3.92830000e+02   4.03000000e+00]\n",
        " ..., \n",
        " [  6.07600000e-02   0.00000000e+00   1.19300000e+01 ...,   2.10000000e+01\n",
        "    3.96900000e+02   5.64000000e+00]\n",
        " [  1.09590000e-01   0.00000000e+00   1.19300000e+01 ...,   2.10000000e+01\n",
        "    3.93450000e+02   6.48000000e+00]\n",
        " [  4.74100000e-02   0.00000000e+00   1.19300000e+01 ...,   2.10000000e+01\n",
        "    3.96900000e+02   7.88000000e+00]]\n",
        "[ 24.   21.6  34.7  33.4  36.2  28.7  22.9  27.1  16.5  18.9  15.   18.9\n",
        "  21.7  20.4  18.2  19.9  23.1  17.5  20.2  18.2  13.6  19.6  15.2  14.5\n",
        "  15.6  13.9  16.6  14.8  18.4  21.   12.7  14.5  13.2  13.1  13.5  18.9\n",
        "  20.   21.   24.7  30.8  34.9  26.6  25.3  24.7  21.2  19.3  20.   16.6\n",
        "  14.4  19.4  19.7  20.5  25.   23.4  18.9  35.4  24.7  31.6  23.3  19.6\n",
        "  18.7  16.   22.2  25.   33.   23.5  19.4  22.   17.4  20.9  24.2  21.7\n",
        "  22.8  23.4  24.1  21.4  20.   20.8  21.2  20.3  28.   23.9  24.8  22.9\n",
        "  23.9  26.6  22.5  22.2  23.6  28.7  22.6  22.   22.9  25.   20.6  28.4\n",
        "  21.4  38.7  43.8  33.2  27.5  26.5  18.6  19.3  20.1  19.5  19.5  20.4\n",
        "  19.8  19.4  21.7  22.8  18.8  18.7  18.5  18.3  21.2  19.2  20.4  19.3\n",
        "  22.   20.3  20.5  17.3  18.8  21.4  15.7  16.2  18.   14.3  19.2  19.6\n",
        "  23.   18.4  15.6  18.1  17.4  17.1  13.3  17.8  14.   14.4  13.4  15.6\n",
        "  11.8  13.8  15.6  14.6  17.8  15.4  21.5  19.6  15.3  19.4  17.   15.6\n",
        "  13.1  41.3  24.3  23.3  27.   50.   50.   50.   22.7  25.   50.   23.8\n",
        "  23.8  22.3  17.4  19.1  23.1  23.6  22.6  29.4  23.2  24.6  29.9  37.2\n",
        "  39.8  36.2  37.9  32.5  26.4  29.6  50.   32.   29.8  34.9  37.   30.5\n",
        "  36.4  31.1  29.1  50.   33.3  30.3  34.6  34.9  32.9  24.1  42.3  48.5\n",
        "  50.   22.6  24.4  22.5  24.4  20.   21.7  19.3  22.4  28.1  23.7  25.\n",
        "  23.3  28.7  21.5  23.   26.7  21.7  27.5  30.1  44.8  50.   37.6  31.6\n",
        "  46.7  31.5  24.3  31.7  41.7  48.3  29.   24.   25.1  31.5  23.7  23.3\n",
        "  22.   20.1  22.2  23.7  17.6  18.5  24.3  20.5  24.5  26.2  24.4  24.8\n",
        "  29.6  42.8  21.9  20.9  44.   50.   36.   30.1  33.8  43.1  48.8  31.\n",
        "  36.5  22.8  30.7  50.   43.5  20.7  21.1  25.2  24.4  35.2  32.4  32.\n",
        "  33.2  33.1  29.1  35.1  45.4  35.4  46.   50.   32.2  22.   20.1  23.2\n",
        "  22.3  24.8  28.5  37.3  27.9  23.9  21.7  28.6  27.1  20.3  22.5  29.\n",
        "  24.8  22.   26.4  33.1  36.1  28.4  33.4  28.2  22.8  20.3  16.1  22.1\n",
        "  19.4  21.6  23.8  16.2  17.8  19.8  23.1  21.   23.8  23.1  20.4  18.5\n",
        "  25.   24.6  23.   22.2  19.3  22.6  19.8  17.1  19.4  22.2  20.7  21.1\n",
        "  19.5  18.5  20.6  19.   18.7  32.7  16.5  23.9  31.2  17.5  17.2  23.1\n",
        "  24.5  26.6  22.9  24.1  18.6  30.1  18.2  20.6  17.8  21.7  22.7  22.6\n",
        "  25.   19.9  20.8  16.8  21.9  27.5  21.9  23.1  50.   50.   50.   50.\n",
        "  50.   13.8  13.8  15.   13.9  13.3  13.1  10.2  10.4  10.9  11.3  12.3\n",
        "   8.8   7.2  10.5   7.4  10.2  11.5  15.1  23.2   9.7  13.8  12.7  13.1\n",
        "  12.5   8.5   5.    6.3   5.6   7.2  12.1   8.3   8.5   5.   11.9  27.9\n",
        "  17.2  27.5  15.   17.2  17.9  16.3   7.    7.2   7.5  10.4   8.8   8.4\n",
        "  16.7  14.2  20.8  13.4  11.7   8.3  10.2  10.9  11.    9.5  14.5  14.1\n",
        "  16.1  14.3  11.7  13.4   9.6   8.7   8.4  12.8  10.5  17.1  18.4  15.4\n",
        "  10.8  11.8  14.9  12.6  14.1  13.   13.4  15.2  16.1  17.8  14.9  14.1\n",
        "  12.7  13.5  14.9  20.   16.4  17.7  19.5  20.2  21.4  19.9  19.   19.1\n",
        "  19.1  20.1  19.9  19.6  23.2  29.8  13.8  13.3  16.7  12.   14.6  21.4\n",
        "  23.   23.7  25.   21.8  20.6  21.2  19.1  20.6  15.2   7.    8.1  13.6\n",
        "  20.1  21.8  24.5  23.1  19.7  18.3  21.2  17.5  16.8  22.4  20.6  23.9\n",
        "  22.   11.9]\n"
       ]
      }
     ],
     "prompt_number": 8
    },
    {
     "cell_type": "code",
     "collapsed": false,
     "input": [
      "y = data['target']\n",
      "X = sklearn.preprocessing.scale(data['data'])\n",
      "print X"
     ],
     "language": "python",
     "metadata": {},
     "outputs": [
      {
       "output_type": "stream",
       "stream": "stdout",
       "text": [
        "[[-0.41771335  0.28482986 -1.2879095  ..., -1.45900038  0.44105193\n",
        "  -1.0755623 ]\n",
        " [-0.41526932 -0.48772236 -0.59338101 ..., -0.30309415  0.44105193\n",
        "  -0.49243937]\n",
        " [-0.41527165 -0.48772236 -0.59338101 ..., -0.30309415  0.39642699\n",
        "  -1.2087274 ]\n",
        " ..., \n",
        " [-0.41137448 -0.48772236  0.11573841 ...,  1.17646583  0.44105193\n",
        "  -0.98304761]\n",
        " [-0.40568883 -0.48772236  0.11573841 ...,  1.17646583  0.4032249\n",
        "  -0.86530163]\n",
        " [-0.41292893 -0.48772236  0.11573841 ...,  1.17646583  0.44105193\n",
        "  -0.66905833]]\n"
       ]
      }
     ],
     "prompt_number": 32
    },
    {
     "cell_type": "code",
     "collapsed": false,
     "input": [
      "kf = sklearn.cross_validation.KFold(n = len(y),\n",
      "                                    n_folds = 5, \n",
      "                                    shuffle = True, \n",
      "                                    random_state = 42)"
     ],
     "language": "python",
     "metadata": {},
     "outputs": [],
     "prompt_number": 33
    },
    {
     "cell_type": "code",
     "collapsed": false,
     "input": [
      "kNN = sklearn.neighbors.KNeighborsRegressor(n_neighbors = 5,\n",
      "                                            weights='distance',\n",
      "                                            metric = 'minkowski')"
     ],
     "language": "python",
     "metadata": {},
     "outputs": [],
     "prompt_number": 34
    },
    {
     "cell_type": "code",
     "collapsed": false,
     "input": [
      "val = sklearn.cross_validation.cross_val_score(estimator = kNN,\n",
      "                                               scoring = 'mean_squared_error',\n",
      "                                               X = X,\n",
      "                                               y = y,\n",
      "                                               cv = kf)\n",
      "print val"
     ],
     "language": "python",
     "metadata": {},
     "outputs": [
      {
       "output_type": "stream",
       "stream": "stdout",
       "text": [
        "[-19.14917772 -13.68282099 -20.87062784 -15.41202669 -17.56853618]\n"
       ]
      }
     ],
     "prompt_number": 36
    },
    {
     "cell_type": "code",
     "collapsed": false,
     "input": [
      "ps = numpy.linspace(1.0, \n",
      "                    10.0, \n",
      "                    num = 200)\n",
      "print ps"
     ],
     "language": "python",
     "metadata": {},
     "outputs": [
      {
       "output_type": "stream",
       "stream": "stdout",
       "text": [
        "[  1.           1.04522613   1.09045226   1.13567839   1.18090452\n",
        "   1.22613065   1.27135678   1.31658291   1.36180905   1.40703518\n",
        "   1.45226131   1.49748744   1.54271357   1.5879397    1.63316583\n",
        "   1.67839196   1.72361809   1.76884422   1.81407035   1.85929648\n",
        "   1.90452261   1.94974874   1.99497487   2.04020101   2.08542714\n",
        "   2.13065327   2.1758794    2.22110553   2.26633166   2.31155779\n",
        "   2.35678392   2.40201005   2.44723618   2.49246231   2.53768844\n",
        "   2.58291457   2.6281407    2.67336683   2.71859296   2.7638191\n",
        "   2.80904523   2.85427136   2.89949749   2.94472362   2.98994975\n",
        "   3.03517588   3.08040201   3.12562814   3.17085427   3.2160804\n",
        "   3.26130653   3.30653266   3.35175879   3.39698492   3.44221106\n",
        "   3.48743719   3.53266332   3.57788945   3.62311558   3.66834171\n",
        "   3.71356784   3.75879397   3.8040201    3.84924623   3.89447236\n",
        "   3.93969849   3.98492462   4.03015075   4.07537688   4.12060302\n",
        "   4.16582915   4.21105528   4.25628141   4.30150754   4.34673367\n",
        "   4.3919598    4.43718593   4.48241206   4.52763819   4.57286432\n",
        "   4.61809045   4.66331658   4.70854271   4.75376884   4.79899497\n",
        "   4.84422111   4.88944724   4.93467337   4.9798995    5.02512563\n",
        "   5.07035176   5.11557789   5.16080402   5.20603015   5.25125628\n",
        "   5.29648241   5.34170854   5.38693467   5.4321608    5.47738693\n",
        "   5.52261307   5.5678392    5.61306533   5.65829146   5.70351759\n",
        "   5.74874372   5.79396985   5.83919598   5.88442211   5.92964824\n",
        "   5.97487437   6.0201005    6.06532663   6.11055276   6.15577889\n",
        "   6.20100503   6.24623116   6.29145729   6.33668342   6.38190955\n",
        "   6.42713568   6.47236181   6.51758794   6.56281407   6.6080402\n",
        "   6.65326633   6.69849246   6.74371859   6.78894472   6.83417085\n",
        "   6.87939698   6.92462312   6.96984925   7.01507538   7.06030151\n",
        "   7.10552764   7.15075377   7.1959799    7.24120603   7.28643216\n",
        "   7.33165829   7.37688442   7.42211055   7.46733668   7.51256281\n",
        "   7.55778894   7.60301508   7.64824121   7.69346734   7.73869347\n",
        "   7.7839196    7.82914573   7.87437186   7.91959799   7.96482412\n",
        "   8.01005025   8.05527638   8.10050251   8.14572864   8.19095477\n",
        "   8.2361809    8.28140704   8.32663317   8.3718593    8.41708543\n",
        "   8.46231156   8.50753769   8.55276382   8.59798995   8.64321608\n",
        "   8.68844221   8.73366834   8.77889447   8.8241206    8.86934673\n",
        "   8.91457286   8.95979899   9.00502513   9.05025126   9.09547739\n",
        "   9.14070352   9.18592965   9.23115578   9.27638191   9.32160804\n",
        "   9.36683417   9.4120603    9.45728643   9.50251256   9.54773869\n",
        "   9.59296482   9.63819095   9.68341709   9.72864322   9.77386935\n",
        "   9.81909548   9.86432161   9.90954774   9.95477387  10.        ]\n"
       ]
      }
     ],
     "prompt_number": 25
    },
    {
     "cell_type": "code",
     "collapsed": false,
     "input": [
      "temp = []\n",
      "for l in ps:\n",
      "    kNN = sklearn.neighbors.KNeighborsRegressor(n_neighbors = 5,\n",
      "                                                weights = 'distance',\n",
      "                                                metric='minkowski',\n",
      "                                                p = l)\n",
      "    val = sklearn.cross_validation.cross_val_score(estimator = kNN,\n",
      "                                                   scoring = 'mean_squared_error',\n",
      "                                                   X = X,\n",
      "                                                   y = y,\n",
      "                                                   cv = kf)\n",
      "    temp.append([round(val.mean(), 6), l])\n",
      "print temp\n",
      "print\n"
     ],
     "language": "python",
     "metadata": {},
     "outputs": [
      {
       "output_type": "stream",
       "stream": "stdout",
       "text": [
        "[[-16.050209, 1.0], [-16.404081, 1.0452261306532664], [-16.367229, 1.0904522613065326], [-16.442539, 1.135678391959799], [-16.455281, 1.1809045226130652], [-16.506563, 1.2261306532663316], [-16.616752, 1.2713567839195981], [-16.801912, 1.3165829145728645], [-16.843957, 1.3618090452261307], [-17.094611, 1.4070351758793969], [-17.120015, 1.4522613065326633], [-16.95135, 1.4974874371859297], [-17.088927, 1.5427135678391961], [-16.79108, 1.5879396984924623], [-16.970884, 1.6331658291457287], [-17.006164, 1.6783919597989949], [-17.154255, 1.7236180904522613], [-17.171595, 1.7688442211055277], [-17.200173, 1.8140703517587939], [-17.319404, 1.8592964824120604], [-17.41089, 1.9045226130653266], [-17.382597, 1.949748743718593], [-17.323538, 1.9949748743718594], [-17.364596, 2.0402010050251258], [-17.39016, 2.0854271356783922], [-17.663511, 2.1306532663316586], [-17.57488, 2.1758793969849246], [-17.327645, 2.221105527638191], [-17.515642, 2.2663316582914574], [-17.565429, 2.3115577889447234], [-17.576189, 2.3567839195979898], [-17.620671, 2.4020100502512562], [-17.623801, 2.4472361809045227], [-17.306885, 2.4924623115577891], [-17.35131, 2.5376884422110555], [-17.510104, 2.5829145728643219], [-17.495131, 2.6281407035175879], [-17.499268, 2.6733668341708543], [-17.56312, 2.7185929648241207], [-17.55961, 2.7638190954773867], [-17.645987, 2.8090452261306531], [-17.640931, 2.8542713567839195], [-17.68256, 2.8994974874371859], [-17.921623, 2.9447236180904524], [-17.983741, 2.9899497487437188], [-18.134386, 3.0351758793969852], [-18.181687, 3.0804020100502512], [-18.254744, 3.1256281407035176], [-18.31207, 3.170854271356784], [-18.318597, 3.2160804020100504], [-18.315043, 3.2613065326633168], [-18.245517, 3.3065326633165828], [-18.545989, 3.3517587939698492], [-18.502251, 3.3969849246231156], [-18.606258, 3.442211055276382], [-18.601239, 3.4874371859296485], [-18.887623, 3.5326633165829149], [-18.925155, 3.5778894472361809], [-18.951208, 3.6231155778894473], [-18.974751, 3.6683417085427137], [-18.948276, 3.7135678391959801], [-18.950031, 3.7587939698492465], [-19.055309, 3.8040201005025125], [-19.102035, 3.8492462311557789], [-19.090357, 3.8944723618090453], [-19.118709, 3.9396984924623117], [-19.205769, 3.9849246231155782], [-19.214194, 4.0301507537688437], [-19.171239, 4.075376884422111], [-19.139627, 4.1206030150753765], [-19.165076, 4.1658291457286438], [-19.113294, 4.2110552763819094], [-19.330128, 4.2562814070351758], [-19.340032, 4.3015075376884422], [-19.339481, 4.3467336683417086], [-19.346654, 4.391959798994975], [-19.252157, 4.4371859296482414], [-19.239443, 4.4824120603015079], [-19.290855, 4.5276381909547734], [-19.432167, 4.5728643216080407], [-19.493108, 4.6180904522613062], [-19.48573, 4.6633165829145735], [-19.601891, 4.708542713567839], [-19.697338, 4.7537688442211055], [-19.708615, 4.7989949748743719], [-19.749301, 4.8442211055276383], [-19.74281, 4.8894472361809047], [-19.746156, 4.9346733668341711], [-19.77741, 4.9798994974874375], [-19.694589, 5.025125628140704], [-19.70414, 5.0703517587939704], [-19.662687, 5.1155778894472359], [-19.689464, 5.1608040201005023], [-19.678852, 5.2060301507537687], [-19.706866, 5.2512562814070352], [-19.679366, 5.2964824120603016], [-19.683933, 5.341708542713568], [-19.711837, 5.3869346733668344], [-19.714924, 5.4321608040201008], [-19.752003, 5.4773869346733672], [-19.914452, 5.5226130653266337], [-19.89261, 5.5678391959799001], [-19.908443, 5.6130653266331656], [-19.935731, 5.658291457286432], [-19.939777, 5.7035175879396984], [-19.931871, 5.7487437185929648], [-20.141964, 5.7939698492462313], [-20.322601, 5.8391959798994977], [-20.326546, 5.8844221105527641], [-20.204369, 5.9296482412060305], [-20.153218, 5.9748743718592969], [-20.156572, 6.0201005025125633], [-20.14844, 6.0653266331658298], [-20.09919, 6.1105527638190953], [-20.074126, 6.1557788944723617], [-20.076775, 6.2010050251256281], [-20.076234, 6.2462311557788945], [-20.081928, 6.291457286432161], [-20.569816, 6.3366834170854274], [-20.583635, 6.3819095477386938], [-20.584066, 6.4271356783919602], [-20.632549, 6.4723618090452266], [-20.612625, 6.517587939698493], [-20.623298, 6.5628140703517586], [-20.60922, 6.608040201005025], [-20.605396, 6.6532663316582914], [-20.605951, 6.6984924623115578], [-20.621254, 6.7437185929648242], [-20.617736, 6.7889447236180906], [-20.61537, 6.8341708542713571], [-20.618006, 6.8793969849246235], [-20.622464, 6.9246231155778899], [-20.665159, 6.9698492462311563], [-20.684366, 7.0150753768844227], [-20.68499, 7.0603015075376883], [-20.687208, 7.1055276381909547], [-20.675348, 7.1507537688442211], [-20.677484, 7.1959798994974875], [-20.876621, 7.2412060301507539], [-20.976048, 7.2864321608040203], [-20.991063, 7.3316582914572868], [-20.992928, 7.3768844221105532], [-21.006815, 7.4221105527638196], [-21.008616, 7.467336683417086], [-21.010387, 7.5125628140703515], [-21.01213, 7.557788944723618], [-21.014703, 7.6030150753768844], [-21.008141, 7.6482412060301508], [-21.026969, 7.6934673366834172], [-21.019679, 7.7386934673366836], [-21.021276, 7.78391959798995], [-21.055091, 7.8291457286432165], [-21.062871, 7.8743718592964829], [-21.064205, 7.9195979899497493], [-21.065694, 7.9648241206030157], [-21.064608, 8.0100502512562812], [-21.067452, 8.0552763819095468], [-21.022775, 8.1005025125628141], [-20.948282, 8.1457286432160814], [-20.94964, 8.1909547738693469], [-20.889888, 8.2361809045226124], [-20.891215, 8.2814070351758797], [-21.004865, 8.326633165829147], [-21.006158, 8.3718592964824126], [-21.009287, 8.4170854271356781], [-21.014222, 8.4623115577889454], [-21.012092, 8.5075376884422109], [-21.01331, 8.5527638190954782], [-21.009491, 8.5979899497487438], [-21.010122, 8.6432160804020093], [-21.013335, 8.6884422110552766], [-21.003181, 8.7336683417085439], [-21.002853, 8.7788944723618094], [-21.003692, 8.8241206030150749], [-21.000626, 8.8693467336683423], [-21.003643, 8.9145728643216096], [-21.004729, 8.9597989949748751], [-21.014561, 9.0050251256281406], [-21.024515, 9.0502512562814079], [-21.073346, 9.0954773869346734], [-21.073906, 9.1407035175879408], [-21.074951, 9.1859296482412063], [-21.075465, 9.2311557788944718], [-21.076481, 9.2763819095477391], [-21.101394, 9.3216080402010046], [-21.102253, 9.3668341708542719], [-21.106974, 9.4120603015075375], [-21.107926, 9.4572864321608048], [-21.109243, 9.5025125628140703], [-21.062545, 9.5477386934673376], [-21.063471, 9.5929648241206031], [-21.071768, 9.6381909547738704], [-21.057331, 9.683417085427136], [-21.058222, 9.7286432160804015], [-21.059101, 9.7738693467336688], [-21.062863, 9.8190954773869343], [-21.063723, 9.8643216080402016], [-21.064572, 9.9095477386934672], [-21.065408, 9.9547738693467345], [-21.086617, 10.0]]\n",
        "\n"
       ]
      }
     ],
     "prompt_number": 44
    },
    {
     "cell_type": "code",
     "collapsed": false,
     "input": [
      "print max(temp, key = lambda x: x[0])\n",
      "import matplotlib.pyplot as plt\n",
      "%matplotlib inline\n",
      "plt.plot(temp)\n",
      "plt.show()"
     ],
     "language": "python",
     "metadata": {},
     "outputs": [
      {
       "output_type": "stream",
       "stream": "stdout",
       "text": [
        "[-16.050209, 1.0]\n"
       ]
      },
      {
       "metadata": {},
       "output_type": "display_data",
       "png": "[encoded data removed]",
       "text": [
        "<matplotlib.figure.Figure at 0x107cbdf0>"
       ]
      }
     ],
     "prompt_number": 45
    },
    {
     "cell_type": "code",
     "collapsed": false,
     "input": [
      "print max(temp)"
     ],
     "language": "python",
     "metadata": {},
     "outputs": [
      {
       "output_type": "stream",
       "stream": "stdout",
       "text": [
        "[-16.050209, 1.0]\n"
       ]
      }
     ],
     "prompt_number": 46
    },
    {
     "cell_type": "code",
     "collapsed": false,
     "input": [
      "print ps[temp.index(max(temp))]"
     ],
     "language": "python",
     "metadata": {},
     "outputs": [
      {
       "output_type": "stream",
       "stream": "stdout",
       "text": [
        "1.0\n"
       ]
      }
     ],
     "prompt_number": 47
    }
   ],
   "metadata": {}
  }
 ]
}