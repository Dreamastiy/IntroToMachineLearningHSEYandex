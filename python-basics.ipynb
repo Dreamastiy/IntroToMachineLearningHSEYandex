{
 "metadata": {
  "name": "",
  "signature": "sha256:a38c0625d91be37e8e5c306f10d6228e4490023ce6c21c741c72b055ff19f056"
 },
 "nbformat": 3,
 "nbformat_minor": 0,
 "worksheets": [
  {
   "cells": [
    {
     "cell_type": "code",
     "collapsed": false,
     "input": [
      "import numpy \n"
     ],
     "language": "python",
     "metadata": {},
     "outputs": [],
     "prompt_number": 4
    },
    {
     "cell_type": "code",
     "collapsed": false,
     "input": [
      "X = numpy.random.normal(loc = 1, scale = 10, size = (1000, 50))\n",
      "print X"
     ],
     "language": "python",
     "metadata": {},
     "outputs": [
      {
       "output_type": "stream",
       "stream": "stdout",
       "text": [
        "[[  0.54207039  11.17220948   0.93439403 ...,  -2.42158741   4.59090746\n",
        "  -19.67253904]\n",
        " [  2.93071155   5.36479223  -8.6460154  ...,   5.06636373   9.34910881\n",
        "    8.50454627]\n",
        " [-10.80197737  -4.91039445   1.4660108  ...,  -0.06073093  22.98772495\n",
        "    2.3257753 ]\n",
        " ..., \n",
        " [-18.29815906  22.27720116 -13.79204853 ...,  -1.01373662  -3.66980533\n",
        "   14.16269431]\n",
        " [  1.89170368 -10.88684277  11.79029485 ...,   1.87518149   2.8934286\n",
        "   -4.94663299]\n",
        " [ -5.44802306  -0.45920727  -7.70387359 ...,   9.31848769   0.71388792\n",
        "   -2.58173995]]\n"
       ]
      }
     ],
     "prompt_number": 5
    },
    {
     "cell_type": "code",
     "collapsed": false,
     "input": [
      "colMean = numpy.mean(X, axis = 0)\n",
      "colSD = numpy.std(X, axis = 0)\n",
      "X_norm = ((X - colMean)  / colSD)\n",
      "print X_norm"
     ],
     "language": "python",
     "metadata": {},
     "outputs": [
      {
       "output_type": "stream",
       "stream": "stdout",
       "text": [
        "[[-0.02101586  0.93771332 -0.01781805 ..., -0.32962114  0.36317673\n",
        "  -2.00907393]\n",
        " [ 0.21204225  0.36056968 -0.93719586 ...,  0.42918646  0.8374434\n",
        "   0.72211675]\n",
        " [-1.12784699 -0.6605828   0.03319821 ..., -0.09037868  2.19685226\n",
        "   0.1232116 ]\n",
        " ..., \n",
        " [-1.85924441  2.04133218 -1.43103161 ..., -0.18695356 -0.46019758\n",
        "   1.27055819]\n",
        " [ 0.11066695 -1.25452482  1.02396147 ...,  0.10580116  0.19398304\n",
        "  -0.58169927]\n",
        " [-0.60546526 -0.2182219  -0.84678383 ...,  0.86008457 -0.02325945\n",
        "  -0.35247138]]\n"
       ]
      }
     ],
     "prompt_number": 9
    },
    {
     "cell_type": "code",
     "collapsed": false,
     "input": [
      "rowSum = numpy.sum(X_norm, axis = 1)\n",
      "print numpy.nonzero(rowSum > 10)"
     ],
     "language": "python",
     "metadata": {},
     "outputs": [
      {
       "output_type": "stream",
       "stream": "stdout",
       "text": [
        "(array([  4,  11,  17,  20,  41,  44,  54,  78,  93, 106, 114, 135, 136,\n",
        "       148, 160, 173, 193, 199, 217, 239, 267, 275, 293, 313, 330, 333,\n",
        "       353, 358, 359, 364, 370, 385, 392, 401, 453, 455, 467, 470, 479,\n",
        "       487, 507, 511, 532, 541, 558, 574, 575, 592, 594, 602, 607, 610,\n",
        "       640, 655, 662, 664, 673, 683, 698, 725, 731, 733, 738, 748, 753,\n",
        "       756, 761, 765, 777, 805, 808, 809, 816, 845, 846, 853, 860, 888,\n",
        "       898, 899, 910, 928, 934, 943, 975]),)\n"
       ]
      }
     ],
     "prompt_number": 13
    },
    {
     "cell_type": "code",
     "collapsed": false,
     "input": [
      "A = numpy.eye(3)\n",
      "B = numpy.eye(3)\n",
      "print A\n",
      "print B\n",
      "C = numpy.vstack((A, B))\n",
      "print C"
     ],
     "language": "python",
     "metadata": {},
     "outputs": [
      {
       "output_type": "stream",
       "stream": "stdout",
       "text": [
        "[[ 1.  0.  0.]\n",
        " [ 0.  1.  0.]\n",
        " [ 0.  0.  1.]]\n",
        "[[ 1.  0.  0.]\n",
        " [ 0.  1.  0.]\n",
        " [ 0.  0.  1.]]\n",
        "[[ 1.  0.  0.]\n",
        " [ 0.  1.  0.]\n",
        " [ 0.  0.  1.]\n",
        " [ 1.  0.  0.]\n",
        " [ 0.  1.  0.]\n",
        " [ 0.  0.  1.]]\n"
       ]
      }
     ],
     "prompt_number": 17
    }
   ],
   "metadata": {}
  }
 ]
}